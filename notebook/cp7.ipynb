{
 "cells": [
  {
   "cell_type": "markdown",
   "metadata": {},
   "source": [
    "# Resources\n",
    "   * [xeus-cling](https://github.com/jupyter-xeus/xeus-cling)\n",
    "   * [CSES problems](https://cses.fi/problemset/)\n",
    "   * [CSES book](https://www.cses.fi/book/book.pdf)\n",
    "   * [EMaxx](https://cp-algorithms.com/)\n",
    "   * [Poly](https://filesender.renater.fr/?s=download&token=93147360-4b1e-4670-b0e5-77c9255f9f9f)"
   ]
  },
  {
   "cell_type": "markdown",
   "metadata": {},
   "source": [
    "# Why Competitive Programming? (6)\n",
    "   * Allow you to improve your skills for\n",
    "        * Choosing and combining the algorithms and data structures with the right complexity to solve a given problem.\n",
    "        * Estimating quickly the complexity of your solution.\n",
    "        * Reducing problems to other related problems.\n",
    "        * Coding interviews\n",
    "\n",
    "   * Each problem you solve gives you a model for similar problems.\n",
    "   * With practice, you will get a kind of \"problem pattern database\" allowing you to relate new problems to already solved ones.\n",
    "   * It's fun!"
   ]
  },
  {
   "cell_type": "markdown",
   "metadata": {},
   "source": [
    "# Sample Problem\n",
    "From [cses problem set](https://cses.fi/problemset/) : [Weird Algorithm](https://cses.fi/problemset/task/1068)\n",
    "\n",
    "**Problem Statement**\n",
    "![Problem description](weird_algorithm.png)\n",
    "\n",
    "**Solution**\n",
    "```cpp\n",
    "#include <bits/stdc++.h>\n",
    "using namespace std;\n",
    "using ll = long long;\n",
    "\n",
    "int main() {    \n",
    "    ios::sync_with_stdio(false);\n",
    "    cin.tie(nullptr);\n",
    "    ll n;\n",
    "    cin >> n;\n",
    "    while (n != 1) {\n",
    "        cout << n << ' ';\n",
    "        if (n & 1) {\n",
    "            n = 3 * n + 1;\n",
    "        } else {\n",
    "            n /= 2;\n",
    "        }\n",
    "    }\n",
    "    cout << 1 << '\\n';\n",
    "}\n",
    "```\n",
    "\n",
    "Its the famous [Collatz problem](https://en.wikipedia.org/wiki/Collatz_conjecture)"
   ]
  },
  {
   "cell_type": "code",
   "execution_count": 1,
   "metadata": {},
   "outputs": [],
   "source": [
    "#include <bits/stdc++.h>\n",
    "using namespace std;\n",
    "using ll = long long;"
   ]
  },
  {
   "cell_type": "code",
   "execution_count": 2,
   "metadata": {},
   "outputs": [],
   "source": [
    "void solve_weird_algorithm(int n) {\n",
    "    while (n != 1) {\n",
    "        cout << n << ' ';\n",
    "        if (n & 1) {\n",
    "            n = 3 * n + 1;\n",
    "        } else {\n",
    "            n /= 2;\n",
    "        }\n",
    "    }\n",
    "    cout << 1 << '\\n';\n",
    "}"
   ]
  },
  {
   "cell_type": "code",
   "execution_count": 3,
   "metadata": {},
   "outputs": [
    {
     "name": "stdout",
     "output_type": "stream",
     "text": [
      "3 10 5 16 8 4 2 1\n"
     ]
    }
   ],
   "source": [
    "solve_weird_algorithm(3)"
   ]
  },
  {
   "cell_type": "markdown",
   "metadata": {},
   "source": [
    "# Try one or two !\n",
    "[Missing Number](https://cses.fi/problemset/task/1068)\n",
    "![Missing Number Statement](missing_number.png)\n",
    "\n",
    "[Creating Strings I](https://cses.fi/problemset/task/1622) (hint: look at the `algorithm` c++ library)\n",
    "![Creating Strings I Statement](creating_strings_I.png)\n"
   ]
  },
  {
   "cell_type": "code",
   "execution_count": 4,
   "metadata": {},
   "outputs": [],
   "source": [
    "void solve_missing_number1(int n, const vector<int>& numbers) {\n",
    "    vector<bool> present(n + 1);\n",
    "    for (int x : numbers) {\n",
    "        present[x] = true;\n",
    "    }\n",
    "    for (int i = 1; i <= n; i++) {\n",
    "        if (!present[i]) {\n",
    "            cout << i << '\\n';\n",
    "            return;\n",
    "        }\n",
    "    }\n",
    "}"
   ]
  },
  {
   "cell_type": "code",
   "execution_count": 5,
   "metadata": {},
   "outputs": [
    {
     "name": "stdout",
     "output_type": "stream",
     "text": [
      "4\n"
     ]
    }
   ],
   "source": [
    "solve_missing_number1(5, {2, 3, 1, 5})"
   ]
  },
  {
   "cell_type": "code",
   "execution_count": 6,
   "metadata": {},
   "outputs": [],
   "source": [
    "void solve_missing_number2(ll n, const vector<int>& numbers) {\n",
    "    ll total = n * (n + 1) / 2;\n",
    "    ll sum = accumulate(begin(numbers), end(numbers), 0, plus<ll>());\n",
    "    cout << total - sum << '\\n';\n",
    "}"
   ]
  },
  {
   "cell_type": "code",
   "execution_count": 7,
   "metadata": {},
   "outputs": [
    {
     "name": "stdout",
     "output_type": "stream",
     "text": [
      "4\n"
     ]
    }
   ],
   "source": [
    "solve_missing_number2(5, {2, 3, 1, 5})"
   ]
  },
  {
   "cell_type": "code",
   "execution_count": 8,
   "metadata": {},
   "outputs": [],
   "source": [
    "void solve_creating_string_I(string s) {\n",
    "    sort(begin(s), end(s));\n",
    "    vector<string> res;\n",
    "    do {\n",
    "        res.emplace_back(s);\n",
    "    } while (next_permutation(begin(s), end(s)));\n",
    "    cout << res.size() << '\\n';\n",
    "    ostream_iterator<string> out_it(cout, \"\\n\");\n",
    "    copy(begin(res), end(res), out_it);\n",
    "}"
   ]
  },
  {
   "cell_type": "code",
   "execution_count": 9,
   "metadata": {},
   "outputs": [
    {
     "name": "stdout",
     "output_type": "stream",
     "text": [
      "20\n",
      "aaabc\n",
      "aaacb\n",
      "aabac\n",
      "aabca\n",
      "aacab\n",
      "aacba\n",
      "abaac\n",
      "abaca\n",
      "abcaa\n",
      "acaab\n",
      "acaba\n",
      "acbaa\n",
      "baaac\n",
      "baaca\n",
      "bacaa\n",
      "bcaaa\n",
      "caaab\n",
      "caaba\n",
      "cabaa\n",
      "cbaaa\n"
     ]
    }
   ],
   "source": [
    "solve_creating_string_I(\"aabac\")"
   ]
  },
  {
   "cell_type": "markdown",
   "metadata": {},
   "source": [
    "# Polya’s Problem Solving Techniques (61)\n",
    "For solving any type of problem, Polya gives a four-point plan:\n",
    " * Understand the problem.\n",
    " * Devise a plan.\n",
    " * Execute the plan.\n",
    " * Look back.\n",
    "\n",
    "[Polya’s problem solving techniques](https://math.berkeley.edu/~gmelvin/polya.pdf)"
   ]
  },
  {
   "cell_type": "markdown",
   "metadata": {},
   "source": [
    "# Understand the problem\n",
    "![Understand the problem (64)](understand_all_the_words.png)"
   ]
  },
  {
   "cell_type": "markdown",
   "metadata": {},
   "source": [
    "# Devise a plan: Draw a picture\n",
    "![Draw a picture (75)](draw_a_picture.png)"
   ]
  },
  {
   "cell_type": "markdown",
   "metadata": {},
   "source": [
    "# Devise a plan: Work with concrete and smaller cases\n",
    "![Work with concrete and smaller cases (101)](fort_boyard.png)"
   ]
  },
  {
   "cell_type": "markdown",
   "metadata": {},
   "source": [
    "# Exercice\n",
    "![Exercice (114)](rectangle_1_n.png)"
   ]
  },
  {
   "cell_type": "markdown",
   "metadata": {},
   "source": [
    "# Devise a plan: Working forwards and backwards\n",
    "![Working forwards and backwards (127)](backwards_forwards.png)"
   ]
  },
  {
   "cell_type": "markdown",
   "metadata": {},
   "source": [
    "# Exercice\n",
    "[UVa online judge 10360](https://onlinejudge.org/index.php?option=com_onlinejudge&Itemid=8&category=15&page=show_problem&problem=1301)\n",
    "![Bombs and rats (144)](uva10360.png)"
   ]
  },
  {
   "cell_type": "code",
   "execution_count": 10,
   "metadata": {},
   "outputs": [],
   "source": [
    "void solve_uva_10360(int d, int n, const vector<tuple<int, int, int>>& rats) { // [0]: x, [1]: y, [2]: size\n",
    "    vector<vector<int>> nb_rats_killed(1025, vector<int>(1025));    \n",
    "    for (auto [x, y, size] : rats) {\n",
    "        for (int x_bomb = max(0, x - d); x_bomb <= min(1024, x + d); ++x_bomb) {\n",
    "            for (int y_bomb = max(0, y - d); y_bomb <= min(1024, y + d); ++y_bomb) {\n",
    "              int nb = nb_rats_killed[x_bomb][y_bomb] += size;              \n",
    "            }\n",
    "        }\n",
    "    }\n",
    "    int best_x = 0, best_y = 0;\n",
    "    for (int x = 0; x < 1025; ++x) {\n",
    "       for (int y = 0; y < 1025; ++y) {\n",
    "            if (nb_rats_killed[x][y] > nb_rats_killed[best_x][best_y]) {\n",
    "                best_x = x;\n",
    "                best_y = y;\n",
    "            }\n",
    "       }\n",
    "    }\n",
    "    cout << best_x << \" \" << best_y << \" \" << nb_rats_killed[best_x][best_y] << endl;\n",
    "}"
   ]
  },
  {
   "cell_type": "code",
   "execution_count": 11,
   "metadata": {},
   "outputs": [
    {
     "name": "stdout",
     "output_type": "stream",
     "text": [
      "5 5 30\n"
     ]
    }
   ],
   "source": [
    "solve_uva_10360(1, 2, {{4, 4, 10}, {6, 6, 20}}); // solution: 5 5 30"
   ]
  },
  {
   "cell_type": "markdown",
   "metadata": {},
   "source": [
    "# Meet in the middle\n",
    "![Problem (176)](meet_middle.png)"
   ]
  },
  {
   "cell_type": "code",
   "execution_count": 12,
   "metadata": {},
   "outputs": [],
   "source": [
    "ll solve_meet_in_the_middle_easy(int N, ll I, const vector<ll>& values) { // N <= 20\n",
    "    ll best = LONG_LONG_MIN;\n",
    "    for (int i = 0; i < (1 << N); i++) {\n",
    "        ll sum = 0;\n",
    "        for (int j = 0; j < N; j++) {\n",
    "            if (i & (1 << j)) {\n",
    "                sum += values[j];\n",
    "            }\n",
    "        }\n",
    "        if (sum <= I && sum > best) {\n",
    "            best = sum;\n",
    "        }\n",
    "    }\n",
    "    return best;\n",
    "}"
   ]
  },
  {
   "cell_type": "code",
   "execution_count": 13,
   "metadata": {},
   "outputs": [
    {
     "data": {
      "text/plain": [
       "90"
      ]
     },
     "execution_count": 13,
     "metadata": {},
     "output_type": "execute_result"
    }
   ],
   "source": [
    "solve_meet_in_the_middle_easy(10, 91, {-8, 12, 1, 2, 3, -25, 32, 18, 30, -40})"
   ]
  },
  {
   "cell_type": "code",
   "execution_count": 14,
   "metadata": {},
   "outputs": [],
   "source": [
    "ll solve_meet_in_the_middle_hard(int N, ll I, const vector<ll>& values) { // N <= 40\n",
    "    auto all_subset_sums = [](const vector<ll>& v) {\n",
    "        set<ll> res;\n",
    "        int n = v.size();\n",
    "        for (int i = 0; i < 1 << n; i++) {\n",
    "            ll sum = 0;\n",
    "            for (int j = 0; j < n; j++) {\n",
    "                if (i & 1 << j) {\n",
    "                    sum += v[j];\n",
    "                }\n",
    "            }\n",
    "            res.insert(sum);\n",
    "        }\n",
    "        return res;\n",
    "    };\n",
    "    auto left = all_subset_sums({begin(values), begin(values) + N / 2});\n",
    "    auto right = all_subset_sums({begin(values) + N / 2, end(values)});\n",
    "    ll best = LONG_LONG_MIN;\n",
    "    for (ll x : left) {\n",
    "        ll target = I - x;\n",
    "        ll res = x;\n",
    "        if (target >= *begin(right)) {\n",
    "            auto it = right.upper_bound(target); // first value > target\n",
    "            res = x + (it == end(right) ? *rbegin(right) : *prev(it));\n",
    "        }\n",
    "        if (res <= I && res > best) {\n",
    "            best = res;\n",
    "        }\n",
    "    }\n",
    "    return best;\n",
    "}"
   ]
  },
  {
   "cell_type": "code",
   "execution_count": 15,
   "metadata": {},
   "outputs": [
    {
     "data": {
      "text/plain": [
       "90"
      ]
     },
     "execution_count": 15,
     "metadata": {},
     "output_type": "execute_result"
    }
   ],
   "source": [
    "solve_meet_in_the_middle_hard(10, 91, {-8, 12, 1, 2, 3, -25, 32, 18, 30, -40})"
   ]
  },
  {
   "cell_type": "code",
   "execution_count": 16,
   "metadata": {},
   "outputs": [],
   "source": [
    "void test_meet_in_the_middle(int n) {\n",
    "    default_random_engine generator;\n",
    "    uniform_int_distribution<ll> ints(-1e6, 1e6);\n",
    "    uniform_int_distribution<int> size(1, 20);\n",
    "    auto create_random_array = [&]() {\n",
    "        vector<ll> res(size(generator));\n",
    "        for (auto& x : res) {\n",
    "            x = ints(generator);\n",
    "        }\n",
    "        return res;\n",
    "    };\n",
    "    for (int i = 0; i < n; i++) {\n",
    "        vector<ll> a = create_random_array();\n",
    "        int N = a.size();\n",
    "        int target = ints(generator);\n",
    "        ll res1 = solve_meet_in_the_middle_easy(N, target, a);\n",
    "        ll res2 = solve_meet_in_the_middle_hard(N, target, a);\n",
    "        if (res1 != res2) {\n",
    "            cout << \"failed\\n\";\n",
    "            return;\n",
    "        }\n",
    "    }\n",
    "    cout << \"OK\\n\";\n",
    "}"
   ]
  },
  {
   "cell_type": "code",
   "execution_count": 17,
   "metadata": {},
   "outputs": [
    {
     "name": "stdout",
     "output_type": "stream",
     "text": [
      "OK\n"
     ]
    }
   ],
   "source": [
    "test_meet_in_the_middle(100)"
   ]
  },
  {
   "cell_type": "markdown",
   "metadata": {},
   "source": [
    "# Exercice\n",
    "[Trailing zeros (285)](https://cses.fi/problemset/task/1618)\n",
    "![Trailing zeros](trailing_zeros.png)"
   ]
  },
  {
   "cell_type": "code",
   "execution_count": 18,
   "metadata": {},
   "outputs": [],
   "source": [
    "void solve_trailing_zeros(int n) {\n",
    "    int res = 0;\n",
    "    int d = 5;\n",
    "    while (n / d) {\n",
    "        res += n / d;\n",
    "        d *= 5;\n",
    "    }\n",
    "    cout << res << '\\n';\n",
    "}"
   ]
  },
  {
   "cell_type": "code",
   "execution_count": 19,
   "metadata": {},
   "outputs": [
    {
     "name": "stdout",
     "output_type": "stream",
     "text": [
      "4\n"
     ]
    }
   ],
   "source": [
    "solve_trailing_zeros(20)"
   ]
  },
  {
   "cell_type": "markdown",
   "metadata": {},
   "source": [
    "# Find an equivalent problem (258)\n",
    "![Find an equivalent problem](find_equivalent_problem.png)"
   ]
  },
  {
   "cell_type": "markdown",
   "metadata": {},
   "source": [
    "# Exercice (267)\n",
    "![Knight puzzle](knight_puzzle.png)"
   ]
  },
  {
   "cell_type": "markdown",
   "metadata": {},
   "source": [
    "# Binary search (605)\n",
    "[Distributing Ballot Boxes (625)](https://onlinejudge.org/index.php?option=onlinejudge&page=show_problem&problem=3812)\n",
    "![Distributing Ballot Boxes](uva12390.png)"
   ]
  },
  {
   "cell_type": "code",
   "execution_count": 20,
   "metadata": {},
   "outputs": [],
   "source": [
    "void solve_uva12390(int B, const vector<int>& nb_inhabitants) {\n",
    "    int N = nb_inhabitants.size();\n",
    "    auto possible = [&](int per_ballot) {\n",
    "        int remaining_ballots = B;\n",
    "        for (unsigned int i = 0; i < N; ++i)\n",
    "        {\n",
    "            if (nb_inhabitants[i] % per_ballot != 0) --remaining_ballots;\n",
    "            remaining_ballots -= nb_inhabitants[i] / per_ballot;\n",
    "            if (remaining_ballots < 0) return false;\n",
    "        }\n",
    "        return true;\n",
    "    };\n",
    "    int lo = 1;\n",
    "    int hi = *max_element(begin(nb_inhabitants), end(nb_inhabitants));\n",
    "    int res;\n",
    "    while (lo <= hi) {\n",
    "        int mid = lo + (hi - lo) / 2;\n",
    "        if (possible(mid)) {\n",
    "            res = mid;\n",
    "            hi = mid - 1;\n",
    "        } else {\n",
    "            lo = mid + 1;\n",
    "        }\n",
    "    }\n",
    "    cout << res << '\\n';\n",
    "}"
   ]
  },
  {
   "cell_type": "code",
   "execution_count": 21,
   "metadata": {},
   "outputs": [
    {
     "name": "stdout",
     "output_type": "stream",
     "text": [
      "1700\n"
     ]
    }
   ],
   "source": [
    "solve_uva12390(6, {120, 2680, 3400, 200});"
   ]
  },
  {
   "cell_type": "markdown",
   "metadata": {},
   "source": [
    "[Factory Machines](https://cses.fi/problemset/task/1620)\n",
    "![Factory Machines](factory_machines.png)"
   ]
  },
  {
   "cell_type": "code",
   "execution_count": 22,
   "metadata": {},
   "outputs": [],
   "source": [
    "int solve_factory_machines(int t, const vector<int>& ks) {\n",
    "    int n = ks.size();\n",
    "    auto possible = [&](ll time) {\n",
    "        ll res = 0;\n",
    "        for (int i = 0; i < n; i++) {\n",
    "            res += time / ks[i];\n",
    "            if (res >= t) return true;\n",
    "        }\n",
    "        return false;\n",
    "    };\n",
    "    ll lo = 0, hi = 1e18;\n",
    "    ll answer = -1;\n",
    "    while (lo <= hi) {\n",
    "        ll m = lo + (hi - lo) / 2;\n",
    "        if (possible(m)) {\n",
    "            answer = m;\n",
    "            hi = m - 1;\n",
    "        } else {\n",
    "            lo = m + 1;\n",
    "        }\n",
    "    }\n",
    "    return answer;\n",
    "}"
   ]
  },
  {
   "cell_type": "code",
   "execution_count": 23,
   "metadata": {},
   "outputs": [
    {
     "data": {
      "text/plain": [
       "8"
      ]
     },
     "execution_count": 23,
     "metadata": {},
     "output_type": "execute_result"
    }
   ],
   "source": [
    "solve_factory_machines(7, {3, 2, 5})"
   ]
  },
  {
   "cell_type": "markdown",
   "metadata": {},
   "source": [
    "# Union find (1125)"
   ]
  },
  {
   "cell_type": "markdown",
   "metadata": {},
   "source": [
    "[Road Construction](https://cses.fi/problemset/task/1676)\n",
    "![Road Construction](road_construction.png)"
   ]
  },
  {
   "cell_type": "code",
   "execution_count": 24,
   "metadata": {},
   "outputs": [],
   "source": [
    "class union_find {\n",
    "private:\n",
    "  vector<int> id; // id[i] = parent of i\n",
    "  vector<int> sz; // sz[i] = number of objects in subtree rooted at i\n",
    "  int count;      // number of components\n",
    "public:\n",
    "    union_find(int N) : id(N, 0), sz(N, 1) {\n",
    "        count = N;\n",
    "        for (int i = 0; i < N; i++) {\n",
    "            id[i] = i;\n",
    "        }\n",
    "    }\n",
    "    int nb_components() {\n",
    "      return count;\n",
    "    }\n",
    "    int size_set(int i) {\n",
    "      return sz[find_set(i)];\n",
    "    }\n",
    "    int find_set(int i) {\n",
    "      return (id[i] == i) ? i : (id[i] = find_set(id[i]));\n",
    "    }\n",
    "    bool connected(int i, int j) {\n",
    "      return find_set(i) == find_set(j);\n",
    "    }\n",
    "    void union_set(int p, int q) {\n",
    "      int i = find_set(p);\n",
    "      int j = find_set(q);\n",
    "      if (i == j) return;\n",
    "      // make smaller root point to larger one\n",
    "      if (sz[i] < sz[j]) { id[i] = j; sz[j] += sz[i]; }\n",
    "      else               { id[j] = i; sz[i] += sz[j]; }\n",
    "      count--;\n",
    "    }\n",
    "};"
   ]
  },
  {
   "cell_type": "code",
   "execution_count": 25,
   "metadata": {},
   "outputs": [],
   "source": [
    "void solve_road_construction(int N, const vector<pair<int, int>>& roads) {\n",
    "    union_find uf(N);\n",
    "    int largest = 0;\n",
    "    for (auto [a, b] : roads) {\n",
    "        a--; b--;\n",
    "        uf.union_set(a, b);\n",
    "        largest = max(largest, uf.size_set(a));\n",
    "        cout << uf.nb_components() << ' ' << largest << '\\n';\n",
    "    }\n",
    "}"
   ]
  },
  {
   "cell_type": "code",
   "execution_count": 26,
   "metadata": {},
   "outputs": [
    {
     "name": "stdout",
     "output_type": "stream",
     "text": [
      "4 2\n",
      "3 3\n",
      "2 3\n"
     ]
    }
   ],
   "source": [
    "solve_road_construction(5, {{1,2},{1,3},{4,5}})"
   ]
  },
  {
   "cell_type": "markdown",
   "metadata": {},
   "source": [
    "# Induction (306)"
   ]
  },
  {
   "cell_type": "markdown",
   "metadata": {},
   "source": [
    "## Example (316)\n",
    "![Cents_3_5](induction_cents.png)"
   ]
  },
  {
   "cell_type": "markdown",
   "metadata": {},
   "source": [
    "## Wrong usage (325)\n",
    "![Wrong](induction_wrong_usage.png)"
   ]
  },
  {
   "cell_type": "markdown",
   "metadata": {},
   "source": [
    "## Example (343)\n",
    "![Tiling](induction_tiling.png)"
   ]
  },
  {
   "cell_type": "markdown",
   "metadata": {},
   "source": [
    "# Design by induction (852)\n",
    "![Design by induction](design_by_induction.png)"
   ]
  },
  {
   "cell_type": "markdown",
   "metadata": {},
   "source": [
    "## Hanoi (853)\n",
    "![Hanoi](hanoi.png)"
   ]
  },
  {
   "cell_type": "code",
   "execution_count": 27,
   "metadata": {},
   "outputs": [],
   "source": [
    "void hanoi(int n, const string& start, const string& intermediate, const string& destination) {\n",
    "  if (n != 0) {\n",
    "      hanoi(n - 1, start, destination, intermediate);\n",
    "      cout << start << \" --> \" << destination << endl;\n",
    "      hanoi(n - 1, intermediate, start, destination);\n",
    "  }\n",
    "}"
   ]
  },
  {
   "cell_type": "code",
   "execution_count": 28,
   "metadata": {},
   "outputs": [
    {
     "name": "stdout",
     "output_type": "stream",
     "text": [
      "A --> C\n",
      "A --> B\n",
      "C --> B\n",
      "A --> C\n",
      "B --> A\n",
      "B --> C\n",
      "A --> C\n"
     ]
    }
   ],
   "source": [
    "hanoi(3, \"A\", \"B\", \"C\")"
   ]
  },
  {
   "cell_type": "markdown",
   "metadata": {},
   "source": [
    "## One to one mapping (868)\n",
    "![One to one](one_to_one_mapping.png)"
   ]
  },
  {
   "cell_type": "code",
   "execution_count": 29,
   "metadata": {},
   "outputs": [],
   "source": [
    "std::set<int> one_to_one_mapping(const vector<int>& f) {\n",
    "  int initial_set_size = f.size();\n",
    "  set<int> S;\n",
    "  for (int i = 0; i < initial_set_size; ++i) S.insert(i);\n",
    "  vector<int> counter(initial_set_size, 0);\n",
    "  for (int i = 0; i < initial_set_size; ++i) ++counter[f[i]];\n",
    "  queue<int> q;\n",
    "  for (int i = 0; i < initial_set_size; ++i) {\n",
    "      if (counter[i] == 0) q.push(i);\n",
    "  }\n",
    "  while (!q.empty()) {\n",
    "      int i = q.front(); q.pop();\n",
    "      S.erase(i);\n",
    "      --counter[f[i]];\n",
    "      if (counter[f[i]] == 0) q.push(f[i]);\n",
    "  }\n",
    "  return S;\n",
    "}"
   ]
  },
  {
   "cell_type": "code",
   "execution_count": 30,
   "metadata": {},
   "outputs": [
    {
     "name": "stdout",
     "output_type": "stream",
     "text": [
      "0->2\n",
      "2->0\n",
      "4->4\n"
     ]
    }
   ],
   "source": [
    "{\n",
    "  vector<int> f {2, 0, 0, 4, 4, 3, 5};\n",
    "  auto res = one_to_one_mapping(f);\n",
    "  for (int i : res) { \n",
    "      cout << i << \"->\" << f[i] << endl; \n",
    "  }\n",
    "}"
   ]
  },
  {
   "cell_type": "markdown",
   "metadata": {},
   "source": [
    "## Celebrity (906)\n",
    "![Celebrity](celebrity.png)"
   ]
  },
  {
   "cell_type": "code",
   "execution_count": 31,
   "metadata": {},
   "outputs": [],
   "source": [
    "template <typename T>\n",
    "using matrix = vector<vector<T>>;\n",
    "\n",
    "int celebrity(const matrix<int>& know) {\n",
    "  int n = know.size();\n",
    "  int i = 0, j = 1;\n",
    "  // In the first phase we eliminate all but one candidate\n",
    "  for (int next = 2; next <= n; ++next) {\n",
    "    if (know[i][j]) i = next;\n",
    "    else j = next;\n",
    "    // One of either i or j is eliminated      \n",
    "  }\n",
    "  int candidate = i;\n",
    "  if (i == n) candidate = j;\n",
    "  // Now we check that the candidate is indeed the celebrity\n",
    "  bool wrong = false;\n",
    "  for (int k = 0; k < n; ++k) {\n",
    "    if (k != candidate && know[candidate][k]) {\n",
    "      wrong = true;\n",
    "      break;\n",
    "    }\n",
    "    if (!know[k][candidate]) {\n",
    "      wrong = true;\n",
    "      break;\n",
    "    }\n",
    "  }\n",
    "  if (!wrong) return candidate;\n",
    "  return -1;\n",
    "} "
   ]
  },
  {
   "cell_type": "code",
   "execution_count": 32,
   "metadata": {},
   "outputs": [
    {
     "name": "stdout",
     "output_type": "stream",
     "text": [
      "2\n"
     ]
    }
   ],
   "source": [
    "{\n",
    "    matrix<int> know{ {1,1,1,1,1}, {0,1,1,0,1}, {0,0,1,0,0}, {0,0,1,1,1}, {0,0,1,0,1} };\n",
    "    cout << celebrity(know) << endl;\n",
    "}"
   ]
  },
  {
   "cell_type": "markdown",
   "metadata": {},
   "source": [
    "# Dynamic programming (2011)\n",
    "![DP](dp_design.png)"
   ]
  },
  {
   "cell_type": "markdown",
   "metadata": {},
   "source": [
    "## World series (2018)\n",
    "![World series](world_series.png)"
   ]
  },
  {
   "cell_type": "code",
   "execution_count": 33,
   "metadata": {},
   "outputs": [],
   "source": [
    "double world_series_top_down(int i, int j, double p, matrix<double>& memo) {\n",
    "  if (i == 0) return 1;\n",
    "  if (j == 0) return 0;\n",
    "  double& res = memo[i][j];\n",
    "  if (res != -1) return res;\n",
    "  return res = p * world_series_top_down(i - 1, j, p, memo) + (1 - p) * world_series_top_down(i, j - 1, p, memo);\n",
    "}"
   ]
  },
  {
   "cell_type": "code",
   "execution_count": 34,
   "metadata": {},
   "outputs": [
    {
     "name": "stdout",
     "output_type": "stream",
     "text": [
      "0.655113\n"
     ]
    }
   ],
   "source": [
    "{\n",
    "    matrix<double> memo(51, vector<double>(51, -1));\n",
    "    cout << world_series_top_down(50, 50, 0.52, memo) << endl;\n",
    "}\n"
   ]
  },
  {
   "cell_type": "code",
   "execution_count": 35,
   "metadata": {},
   "outputs": [
    {
     "name": "stdout",
     "output_type": "stream",
     "text": [
      " 10: 0.570142\n",
      " 30: 0.621215\n",
      " 50: 0.655113\n",
      " 70: 0.681762\n",
      " 90: 0.704064\n",
      "110: 0.723362\n",
      "130: 0.740413\n",
      "150: 0.755695\n",
      "170: 0.769535\n",
      "190: 0.78217\n",
      "210: 0.793777\n",
      "230: 0.804493\n",
      "250: 0.814429\n",
      "270: 0.823674\n",
      "290: 0.832301\n",
      "310: 0.840372\n"
     ]
    }
   ],
   "source": [
    "{\n",
    "    // World series bottom-up\n",
    "    constexpr int MAX_GAMES = 310;\n",
    "    matrix<double> P(MAX_GAMES + 1, vector<double>(MAX_GAMES + 1, 0));\n",
    "    double p = 0.52;\n",
    "    for (int j = 1; j <= MAX_GAMES; ++j) P[0][j] = 1;\n",
    "    for (int i = 1; i <= MAX_GAMES; ++i) P[i][0] = 0;\n",
    "    for (int i = 1; i <= MAX_GAMES; ++i) {\n",
    "        for (int j = 1; j <= MAX_GAMES; ++j) {\n",
    "          P[i][j] = p * P[i - 1][j] + (1 - p) * P[i][j - 1];\n",
    "        }\n",
    "    }\n",
    "    for (int i = 10; i <= MAX_GAMES; i += 20) {\n",
    "      cout << setw(3) << i << \": \" << P[i][i] << endl;\n",
    "    }\n",
    "}"
   ]
  },
  {
   "cell_type": "markdown",
   "metadata": {},
   "source": [
    "## Coin change (2089)\n",
    "![Coin change](coin_change.png)"
   ]
  },
  {
   "cell_type": "code",
   "execution_count": 36,
   "metadata": {},
   "outputs": [],
   "source": [
    "int number_of_coins(int value, const vector<int>& coins, vector<int>& memo) { // Top-down\n",
    "    if (value == 0) return 0;\n",
    "    if (value < 0) return INT_MAX - 1;\n",
    "    int& res = memo[value];\n",
    "    if (res != -1) return res;\n",
    "    res = INT_MAX - 1;\n",
    "    for (unsigned int i = 0; i < coins.size(); ++i) {\n",
    "        res = min(res, number_of_coins(value - coins[i], coins, memo) + 1);\n",
    "    }\n",
    "    return res;\n",
    "}"
   ]
  },
  {
   "cell_type": "code",
   "execution_count": 37,
   "metadata": {},
   "outputs": [
    {
     "name": "stdout",
     "output_type": "stream",
     "text": [
      "2\n"
     ]
    }
   ],
   "source": [
    "{\n",
    "    constexpr int amount = 10;\n",
    "    vector<int> memo(amount + 1, -1);\n",
    "    cout << number_of_coins(amount, {1, 4, 5, 8, 17}, memo) << endl;\n",
    "}"
   ]
  },
  {
   "cell_type": "code",
   "execution_count": 38,
   "metadata": {},
   "outputs": [
    {
     "name": "stdout",
     "output_type": "stream",
     "text": [
      "2\n"
     ]
    }
   ],
   "source": [
    "{\n",
    "    // Bottom-up\n",
    "    constexpr int amount = 10;\n",
    "    constexpr int INF = INT_MAX - 1;\n",
    "    vector<int> dp(amount + 1, INF);\n",
    "    dp[0] = 0;\n",
    "    for (int coin : {1, 4, 5, 8, 17}) {\n",
    "        for (int j = coin; j <= amount; ++j) {\n",
    "            dp[j] = min(dp[j], dp[j - coin] + 1);\n",
    "        }\n",
    "    }\n",
    "    cout << dp[amount] << endl;\n",
    "}"
   ]
  },
  {
   "cell_type": "markdown",
   "metadata": {},
   "source": [
    "# TP1 / TP2"
   ]
  },
  {
   "cell_type": "markdown",
   "metadata": {},
   "source": [
    " [Coin Piles](https://cses.fi/problemset/task/1754)\n",
    " ![Coin Piles](coin_piles.png)"
   ]
  },
  {
   "cell_type": "code",
   "execution_count": 39,
   "metadata": {},
   "outputs": [],
   "source": [
    "void solve_coin_piles(const vector<pair<int, int>>& piles) {\n",
    "    // From two empty piles, we can reach piles of the form (2x+y, x+2y).\n",
    "    // So if we have the piles (a, b) we must have a + b = 3x + 3y, so a + b must be a multiple of 3.\n",
    "    // It is not sufficient, for example (1, 32).\n",
    "    // To solve the problem we must empty the two piles, so at least at one point, they must have the same size.\n",
    "    // When they have the same size, it is easy to solve the problem (because the total number of coins must be \n",
    "    // a multiple of 3). We can take 2 from a and so one from b, and then 1 from a and so 2 from b, ...\n",
    "    // To make the two piles equal with the least amount of coins taken, we must take 2 from the biggest one up to\n",
    "    // have the same number of coins in the two piles (this is not always possible).\n",
    "    for (auto [a, b] : piles) {\n",
    "        if (a < b) swap(a, b); // To be easier to code, make 'a' the biggest pile.\n",
    "        int d = a - b; // When we take from the biggest pile 2 coins we make the difference between the two piles\n",
    "                       // less by one.\n",
    "        if (d > b || (a + b) % 3 != 0) { // If there was not enough coins or the sum is not divisible by 3 it's\n",
    "                                         // not possible.\n",
    "            cout << \"NO\\n\";\n",
    "            continue;\n",
    "        }\n",
    "        cout << \"YES\\n\";        \n",
    "    }\n",
    "}"
   ]
  },
  {
   "cell_type": "code",
   "execution_count": 40,
   "metadata": {},
   "outputs": [
    {
     "name": "stdout",
     "output_type": "stream",
     "text": [
      "YES\n",
      "NO\n",
      "YES\n"
     ]
    }
   ],
   "source": [
    "solve_coin_piles({{2, 1}, {2, 2}, {3, 3}})"
   ]
  },
  {
   "cell_type": "markdown",
   "metadata": {},
   "source": [
    " [Yet Another Number Game](https://www.codechef.com/problems/NUMGAME/)\n",
    " ![Yet Another Number Game](yet_another_number_game.png)"
   ]
  },
  {
   "cell_type": "code",
   "execution_count": 41,
   "metadata": {},
   "outputs": [],
   "source": [
    "// Let's solve a few games with L a losing state for the current player and W a winning state for the current \n",
    "// player.\n",
    "// 1 : L\n",
    "// 2 : W\n",
    "// 3 : L\n",
    "// 4 : W\n",
    "// 5 : L\n",
    "// 6 : W\n",
    "// OK, it seems that the current player loses on odd numbers and wins on even numbers.\n",
    "// Can we prove this? \n",
    "// Suppose that the odd numbers are losing for the current player and the even numbers are winning for the current\n",
    "// player.\n",
    "// It is true for the base cases 1 and 2.\n",
    "// For a given number n > 2, if this number is even, we can substract one from it and we get an odd number n', and\n",
    "// by the induction hypothesis, n' is a losing state and so n is a winning state for the current player.\n",
    "// If n is odd, if we substract an odd number from it, we get an even number n', and if we substract an odd number,\n",
    "// we get also an even number n''. So in all cases, we get to a winning state for the other player, so n\n",
    "// is a losing state for the current player.\n",
    "// QED.\n",
    "void solve_another_number_game(const vector<int>& input) {\n",
    "    for (int N : input) {\n",
    "        cout << (N & 1 ? \"BOB\" : \"ALICE\") << '\\n';\n",
    "    }\n",
    "}"
   ]
  },
  {
   "cell_type": "code",
   "execution_count": 42,
   "metadata": {},
   "outputs": [
    {
     "name": "stdout",
     "output_type": "stream",
     "text": [
      "BOB\n",
      "ALICE\n"
     ]
    }
   ],
   "source": [
    "solve_another_number_game({1, 2})"
   ]
  },
  {
   "cell_type": "markdown",
   "metadata": {},
   "source": [
    " [Meet in the Middle](https://cses.fi/problemset/task/1628)\n",
    " ![Meet in the Middle](meet_in_the_middleCSES.png)"
   ]
  },
  {
   "cell_type": "code",
   "execution_count": 43,
   "metadata": {},
   "outputs": [],
   "source": [
    "ll solve_meet_in_the_middle_cses(ll x, const vector<ll>& values) { // N <= 40\n",
    "    int N = values.size();\n",
    "    auto all_subset_sums = [](const vector<ll>& v) {\n",
    "        vector<ll> res;\n",
    "        int n = v.size();\n",
    "        for (int i = 0; i < 1 << n; i++) {\n",
    "            ll sum = 0;\n",
    "            for (int j = 0; j < n; j++) {\n",
    "                if (i & 1 << j) {\n",
    "                    sum += v[j];\n",
    "                }\n",
    "            }\n",
    "            res.push_back(sum);\n",
    "        }\n",
    "        return res;\n",
    "    };\n",
    "    auto left = all_subset_sums({begin(values), begin(values) + N / 2});\n",
    "    auto right = all_subset_sums({begin(values) + N / 2, end(values)});\n",
    "    sort(begin(right), end(right));\n",
    "    ll res = 0;\n",
    "    for (ll l : left) {\n",
    "        ll target = x - l;\n",
    "        // For example, if we have right = [1, 1, 2, 4, 8, 8, 8, 8, 9, ...] and we search for target == 8, \n",
    "        // lower_bound(...) points to: [1, 1, 2, 4, **8**, 8, 8, 8, 9, ...]\n",
    "        // upper_bound(...) points to: [1, 1, 2, 4, 8, 8, 8, 8, **9**, ...]\n",
    "        // we can get the number of 8 using the difference between these two pointers\n",
    "        // I used a map instead of this in my first attempt, but it was slightly too slow.\n",
    "        // Using a sorted array and using lower_bound and upper_bound is faster (even though the two solutions\n",
    "        // have the same asymptotic complexity)\n",
    "        auto it1 = lower_bound(begin(right), end(right), target);\n",
    "        auto it2 = upper_bound(begin(right), end(right), target);\n",
    "        if (it1 != end(right) && *it1 == target) {\n",
    "            // If target was in the right part, we add the number of values found in the right part such that\n",
    "            // target + l == x\n",
    "            res += it2 - it1; \n",
    "        }\n",
    "    }\n",
    "    return res;\n",
    "}"
   ]
  },
  {
   "cell_type": "code",
   "execution_count": 44,
   "metadata": {},
   "outputs": [
    {
     "data": {
      "text/plain": [
       "3"
      ]
     },
     "execution_count": 44,
     "metadata": {},
     "output_type": "execute_result"
    }
   ],
   "source": [
    "solve_meet_in_the_middle_cses(5, {1, 2, 3, 2})"
   ]
  },
  {
   "cell_type": "markdown",
   "metadata": {},
   "source": [
    "[Exams](https://codeforces.com/contest/732/problem/D)\n",
    "![Exams](exams_codeforces.png)"
   ]
  },
  {
   "cell_type": "code",
   "execution_count": 45,
   "metadata": {},
   "outputs": [],
   "source": [
    "// exams[0..n-1]: exams[i] is the subject number between 0 and m if equals to zero this means that you\n",
    "// cannot pass an exam on day i\n",
    "// preparations[1..m]: preparations[i] is the preparation time for subject number i\n",
    "int solve_exams(const vector<int>& exams, const map<int, int>& preparations) {\n",
    "    int n = exams.size();\n",
    "    int m = preparations.size();\n",
    "    auto possible = [&](int nb_days) {      \n",
    "      vector<int> positions(n);\n",
    "      for (int i = 0; i < nb_days; ++i) {\n",
    "          positions[exams[i]] = i; // We store the position of an exam, because we can only have one\n",
    "                                   // exam a day, we try to put a given exam as far as possible to have\n",
    "                                   // more time to prepare.\n",
    "      }\n",
    "      positions[0] = -1; // Zero is not a valid exam number, we give an impossible position for it.\n",
    "      int prep = 0;\n",
    "      int nb_exams = 0;\n",
    "      for (int i = 0; i < nb_days; ++i) {\n",
    "          if (positions[exams[i]] == i) {              \n",
    "              ++nb_exams;\n",
    "              // If exams[i] is at position i we need to check if we have had enough time for its preparation.\n",
    "              if (prep < preparations.at(exams[i])) return false;\n",
    "              prep -= preparations.at(exams[i]);\n",
    "          } else {\n",
    "              ++prep;\n",
    "          }\n",
    "      }\n",
    "      return nb_exams == m;  \n",
    "    };\n",
    "    int lo = 1;\n",
    "    int hi = n;\n",
    "    int res = -1;\n",
    "    while (lo <= hi) {\n",
    "      int mid = lo + (hi - lo) / 2; // Can use the formula (lo + hi) / 2 here but just to show that I know\n",
    "                                    // about integer overflow :)\n",
    "      if (possible(mid)) {\n",
    "          res = mid;\n",
    "          hi = mid - 1;\n",
    "      }\n",
    "      else {\n",
    "          lo = mid + 1;\n",
    "      }\n",
    "    }\n",
    "    return res;\n",
    "}"
   ]
  },
  {
   "cell_type": "code",
   "execution_count": 46,
   "metadata": {},
   "outputs": [
    {
     "data": {
      "text/plain": [
       "5"
      ]
     },
     "execution_count": 46,
     "metadata": {},
     "output_type": "execute_result"
    }
   ],
   "source": [
    "solve_exams({0, 1, 0, 2, 1, 0, 2}, {{1, 2}, {2, 1}})"
   ]
  },
  {
   "cell_type": "code",
   "execution_count": 47,
   "metadata": {},
   "outputs": [
    {
     "data": {
      "text/plain": [
       "-1"
      ]
     },
     "execution_count": 47,
     "metadata": {},
     "output_type": "execute_result"
    }
   ],
   "source": [
    "solve_exams({1, 1, 1, 1, 1}, {{1, 5}})"
   ]
  },
  {
   "cell_type": "markdown",
   "metadata": {},
   "source": [
    "# Longest Increasing Subsequence (2133)\n",
    "![LIS](lis.png)"
   ]
  },
  {
   "cell_type": "code",
   "execution_count": 48,
   "metadata": {},
   "outputs": [],
   "source": [
    "// Fast lis in O(n*log(n))\n",
    "// We remember the strictly increasing subsequence and print it\n",
    "void fast_lis(const vector<int>& a) {\n",
    "    int n = a.size();\n",
    "    vector<int> lis; // 'lis[i]' represents the smallest value ending all length-(i+1) strictly\n",
    "                     // increasing subsequence\n",
    "    vector<int> idx; // At position 'i' in 'lis', what is the corresponding index in the array 'a'?\n",
    "    vector<int> prev(n, -1); // 'prev[i]' is the previous index in array 'a' for the value at index 'i' in 'a',\n",
    "                             // for a strictly increasing subsequence ending at 'i' \n",
    "    for (int i = 0; i < n; i++) {\n",
    "        int v = a[i];\n",
    "        int pos = lower_bound(begin(lis), end(lis), v) - begin(lis); // Binary search the position of 'v'\n",
    "        if (pos == lis.size()) { // We found a new best subsequence\n",
    "            lis.push_back(v);\n",
    "            idx.push_back(i);\n",
    "        } else { // Smaller value found for a subsequence of length 'pos + 1'\n",
    "            lis[pos] = v;\n",
    "            idx[pos] = i;\n",
    "        }\n",
    "        if (pos != 0) {\n",
    "            prev[i] = idx[pos - 1];\n",
    "        }\n",
    "    }\n",
    "    cout << \"Length of best sequence: \" << lis.size() << '\\n';\n",
    "    int cur = idx[lis.size() - 1]; // Going backward\n",
    "    string seq;\n",
    "    while (cur != -1) {\n",
    "        seq = to_string(a[cur]) + \" \" + seq;\n",
    "        cur = prev[cur];\n",
    "    }\n",
    "    cout << \"Sequence: \" << seq << '\\n';\n",
    "}"
   ]
  },
  {
   "cell_type": "code",
   "execution_count": 49,
   "metadata": {},
   "outputs": [
    {
     "name": "stdout",
     "output_type": "stream",
     "text": [
      "Length of best sequence: 11\n",
      "Sequence: -2 -1 0 8 10 11 15 17 19 23 24 \n"
     ]
    }
   ],
   "source": [
    "fast_lis({12,-2,-1,0,32,8,31,120,10,-7,0,14,11,-42,15,17,100,110,19,19,23,24});"
   ]
  },
  {
   "cell_type": "markdown",
   "metadata": {},
   "source": [
    "[Spiderman and Jumping](https://www.codechef.com/problems/SPIDY2)\n",
    "![Spiderman and Jumping](spiderman_and_jumping.png)"
   ]
  },
  {
   "cell_type": "code",
   "execution_count": 50,
   "metadata": {},
   "outputs": [],
   "source": [
    "ll solve_spiderman_and_jumping(const vector<int>& heights) {\n",
    "    const int N = heights.size();\n",
    "    const ll INF = 1LL << 60; // Do not use LLONG_MAX, because it could cause an overflow due to the\n",
    "                              // addition in the while loop\n",
    "    vector<ll> energy(N, INF);\n",
    "    energy[0] = 0; // No energy needed for the starting point\n",
    "    for (int i = 1; i < N; ++i) {\n",
    "      // We can use the same idea as we have seen for LIS, because the jumps of spiderman are few.\n",
    "      int power_of_two = 1;\n",
    "      while (i - power_of_two >= 0) {\n",
    "        energy[i] = min(energy[i], energy[i - power_of_two] + abs(heights[i] - heights[i - power_of_two]));\n",
    "        power_of_two <<= 1;\n",
    "      }\n",
    "    }\n",
    "    return energy[N - 1]; // The last building\n",
    "}"
   ]
  },
  {
   "cell_type": "code",
   "execution_count": 51,
   "metadata": {},
   "outputs": [
    {
     "data": {
      "text/plain": [
       "3"
      ]
     },
     "execution_count": 51,
     "metadata": {},
     "output_type": "execute_result"
    }
   ],
   "source": [
    "solve_spiderman_and_jumping({1, 2, 3, 4})"
   ]
  },
  {
   "cell_type": "markdown",
   "metadata": {},
   "source": [
    "# Heap (1254)\n",
    "![Heap](heap.png)"
   ]
  },
  {
   "cell_type": "markdown",
   "metadata": {},
   "source": [
    "[Continuous Median](https://open.kattis.com/problems/continuousmedian)\n",
    "![Continuous Median](continuous_median.png)"
   ]
  },
  {
   "cell_type": "code",
   "execution_count": 52,
   "metadata": {},
   "outputs": [],
   "source": [
    "int solve_continuous_median(const vector<int>& A) {\n",
    "    priority_queue<int> left_max_pq;\n",
    "    priority_queue<int, vector<int>, greater<int>> right_min_pq;    \n",
    "    left_max_pq.push(numeric_limits<int>::min());\n",
    "    right_min_pq.push(numeric_limits<int>::max());\n",
    "    // The invariant is that the max element of the left heap is less than the min element of the right heap\n",
    "    // and we keep a size difference between the two heaps of at most 1.\n",
    "    // It is now easy to find the median, but the invariant must be preserved for each new incoming element.\n",
    "    ll res = 0;\n",
    "    for (int x : A) {\n",
    "      int left = left_max_pq.top();\n",
    "      int right = right_min_pq.top();\n",
    "      if (left_max_pq.size() <= right_min_pq.size()) {\n",
    "        if (x <= right) left_max_pq.push(x);\n",
    "        else {\n",
    "          left_max_pq.push(right_min_pq.top());\n",
    "          right_min_pq.pop();\n",
    "          right_min_pq.push(x);\n",
    "        }\n",
    "      } else {\n",
    "        if (x >= left) right_min_pq.push(x);\n",
    "        else {\n",
    "          right_min_pq.push(left_max_pq.top());\n",
    "          left_max_pq.pop();\n",
    "          left_max_pq.push(x);\n",
    "        }\n",
    "      }\n",
    "      if (right_min_pq.size() == left_max_pq.size()) {\n",
    "        res += (left_max_pq.top() + right_min_pq.top()) / 2;   \n",
    "      } else {\n",
    "        if (right_min_pq.size() < left_max_pq.size()) res += left_max_pq.top();\n",
    "        else res += right_min_pq.top();\n",
    "      }\n",
    "    }\n",
    "    return res;\n",
    "}"
   ]
  },
  {
   "cell_type": "code",
   "execution_count": 53,
   "metadata": {},
   "outputs": [
    {
     "data": {
      "text/plain": [
       "15"
      ]
     },
     "execution_count": 53,
     "metadata": {},
     "output_type": "execute_result"
    }
   ],
   "source": [
    "solve_continuous_median({1, 3, 6, 2, 7, 8})"
   ]
  },
  {
   "cell_type": "code",
   "execution_count": 54,
   "metadata": {},
   "outputs": [
    {
     "data": {
      "text/plain": [
       "20"
      ]
     },
     "execution_count": 54,
     "metadata": {},
     "output_type": "execute_result"
    }
   ],
   "source": [
    "solve_continuous_median({1, 3, 6, 2, 7, 8, 5})"
   ]
  },
  {
   "cell_type": "markdown",
   "metadata": {},
   "source": [
    "[Association for Control Over Minds](https://open.kattis.com/problems/control)\n",
    "![Association for Control Over Minds](association_for_control_over_minds.png)\n",
    "![Association for Control Over Minds](association_for_control_over_minds2.png)"
   ]
  },
  {
   "cell_type": "code",
   "execution_count": 55,
   "metadata": {},
   "outputs": [],
   "source": [
    "int solve_association_for_control_over_minds(const vector<vector<int>>& recipes) {\n",
    "    int n = recipes.size();\n",
    "    // At first, each ingredient is in its own cauldron\n",
    "    union_find uf(500001);\n",
    "    int res = 0;\n",
    "    for (int i = 0; i < n; i++) {\n",
    "        auto ingredients = recipes[i];\n",
    "        int m = ingredients.size();\n",
    "        set<int> s;\n",
    "        for (int i = 0; i < m; ++i) {\n",
    "            // We insert the cauldron of each ingredient of the current recipe\n",
    "            s.insert(uf.find_set(ingredients[i]));\n",
    "        }\n",
    "        int total = 0; // The total number of ingredients in the different cauldrons\n",
    "        for (int i : s) {\n",
    "          total += uf.size_set(i);\n",
    "        }\n",
    "        if (total == m) { // If the different ingredients are exactly the ones we are looking for we can do it\n",
    "            ++res;\n",
    "            // We create one cauldron containing all the ingredients of this recipe\n",
    "            for (int i = 1; i < m; ++i) {\n",
    "                uf.union_set(ingredients[0], ingredients[i]);\n",
    "            }\n",
    "        }\n",
    "    }\n",
    "    return res;\n",
    "}"
   ]
  },
  {
   "cell_type": "code",
   "execution_count": 56,
   "metadata": {},
   "outputs": [
    {
     "data": {
      "text/plain": [
       "3"
      ]
     },
     "execution_count": 56,
     "metadata": {},
     "output_type": "execute_result"
    }
   ],
   "source": [
    "solve_association_for_control_over_minds({{1, 2}, {3, 4}, {1, 5}, {1, 2, 3, 4, 5}, {1, 2}})"
   ]
  },
  {
   "cell_type": "code",
   "execution_count": 57,
   "metadata": {},
   "outputs": [
    {
     "data": {
      "text/plain": [
       "1"
      ]
     },
     "execution_count": 57,
     "metadata": {},
     "output_type": "execute_result"
    }
   ],
   "source": [
    "solve_association_for_control_over_minds({{1, 2}, {1}, {2}})"
   ]
  },
  {
   "cell_type": "markdown",
   "metadata": {},
   "source": [
    "[Coin Combinations I](https://cses.fi/problemset/task/1635)\n",
    "![Coin Combinations I](coin_combinations1.png)"
   ]
  },
  {
   "cell_type": "code",
   "execution_count": 58,
   "metadata": {},
   "outputs": [],
   "source": [
    "int solve_coin_combinations_I_top_down(int X, const vector<int>& coins) {\n",
    "    constexpr int M = 1e9 + 7;\n",
    "    vector<int> memo(X + 1, -1); // We init with a negative value because it is not a \n",
    "                                // valid possibility for the problem\n",
    "    function<int(int)> solve = [&](int sum) {\n",
    "        if (sum == 0) return 1; // OK we found a valid coins combination\n",
    "        if (sum < 0) return 0;  // Because I don't check 'sum - coin >= 0' below\n",
    "        int& res = memo[sum];   \n",
    "        if (res != -1) return res; // If we have already seen this value\n",
    "        res = 0;\n",
    "        for (int coin : coins) { // At each step, we consider all the coins, because the order matter\n",
    "            res += solve(sum - coin);\n",
    "            if (res >= M) res -= M; // To do the modulo (more efficient than using '%')\n",
    "        }\n",
    "        return res;\n",
    "    };\n",
    "    return solve(X);\n",
    "}"
   ]
  },
  {
   "cell_type": "code",
   "execution_count": 59,
   "metadata": {},
   "outputs": [
    {
     "data": {
      "text/plain": [
       "8"
      ]
     },
     "execution_count": 59,
     "metadata": {},
     "output_type": "execute_result"
    }
   ],
   "source": [
    "solve_coin_combinations_I_top_down(9, {2, 3, 5})"
   ]
  },
  {
   "cell_type": "code",
   "execution_count": 60,
   "metadata": {},
   "outputs": [],
   "source": [
    "int solve_coin_combinations_I_bottom_up(int X, const vector<int>& coins) {\n",
    "    constexpr int M = 1e9 + 7;\n",
    "    vector<int> dp(X + 1);\n",
    "    const int N = coins.size();    \n",
    "    dp[0] = 1; // There is one way to produce 0, use zero coins\n",
    "    // For each possible sum 'i'.\n",
    "    for (int i = 0; i <= X; i++) { // this order, from 0 to X is important, look at what would happen \n",
    "                                   // if I go from X to 0\n",
    "        // For each coin 'j'\n",
    "        for (int j = 0; j < N; j++) {\n",
    "            int v = coins[j];\n",
    "            if (i + v > X) continue;\n",
    "            dp[i + v] += dp[i];\n",
    "            if (dp[i + v] >= M) dp[i + v] -= M;\n",
    "        }\n",
    "    }\n",
    "    return dp[X];\n",
    "}"
   ]
  },
  {
   "cell_type": "code",
   "execution_count": 61,
   "metadata": {},
   "outputs": [
    {
     "data": {
      "text/plain": [
       "8"
      ]
     },
     "execution_count": 61,
     "metadata": {},
     "output_type": "execute_result"
    }
   ],
   "source": [
    "solve_coin_combinations_I_bottom_up(9, {2, 3, 5})"
   ]
  },
  {
   "cell_type": "markdown",
   "metadata": {},
   "source": [
    "[Coin Combinations II](https://cses.fi/problemset/task/1636)\n",
    "![Coin Combinations II](coin_combinations2.png)"
   ]
  },
  {
   "cell_type": "code",
   "execution_count": 62,
   "metadata": {},
   "outputs": [],
   "source": [
    "// My top-down version gets a time limit exceeded verdict\n",
    "int solve_coin_combinations_II_top_down(int X, const vector<int>& coins) {\n",
    "    constexpr int M = 1e9 + 7;\n",
    "    const int N = coins.size();\n",
    "    vector<vector<int>> memo(X + 1, vector<int>(N, -1));\n",
    "    // We need a new parameter 'index' to keep track of coins we have already used, because the order\n",
    "    // does not matter anymore\n",
    "    function<int(int, int)> solve = [&](int sum, int index) {\n",
    "        if (sum == 0) return 1;\n",
    "        if (sum < 0 || index == N) return 0;\n",
    "        int& res = memo[sum][index];\n",
    "        if (res != -1) return res;\n",
    "        res = solve(sum - coins[index], index); // We use the current coin and we can still use it\n",
    "        res += solve(sum, index + 1); // We don't use the current piece and we can no longer user it\n",
    "        if (res >= M) res -= M;\n",
    "        return res;\n",
    "    };\n",
    "    return solve(X, 0);\n",
    "}"
   ]
  },
  {
   "cell_type": "code",
   "execution_count": 63,
   "metadata": {},
   "outputs": [
    {
     "data": {
      "text/plain": [
       "3"
      ]
     },
     "execution_count": 63,
     "metadata": {},
     "output_type": "execute_result"
    }
   ],
   "source": [
    "solve_coin_combinations_II_top_down(9, {2, 3, 5})"
   ]
  },
  {
   "cell_type": "code",
   "execution_count": 64,
   "metadata": {},
   "outputs": [],
   "source": [
    "int solve_coin_combinations_II_bottom_up(int X, const vector<int>& coins) {\n",
    "    constexpr int M = 1e9 + 7;\n",
    "    const int N = coins.size();\n",
    "    vector<int> dp(X + 1);\n",
    "    dp[0] = 1;\n",
    "    // Notice that now we iterate over the coins before the sum. In doing so, the order does not matter anymore.\n",
    "    // We cannot count '1 + 2 + 1' and '1 + 1 + 2' as two different solutions\n",
    "    for (int i = 0; i < N; i++) {\n",
    "        int v = coins[i];\n",
    "        for (int j = v; j <= X; j++) {\n",
    "            dp[j] += dp[j - v];\n",
    "            if (dp[j] >= M) dp[j] -= M;\n",
    "        }\n",
    "    }\n",
    "    return dp[X];\n",
    "}"
   ]
  },
  {
   "cell_type": "code",
   "execution_count": 65,
   "metadata": {},
   "outputs": [
    {
     "data": {
      "text/plain": [
       "3"
      ]
     },
     "execution_count": 65,
     "metadata": {},
     "output_type": "execute_result"
    }
   ],
   "source": [
    "solve_coin_combinations_II_bottom_up(9, {2, 3, 5})"
   ]
  },
  {
   "cell_type": "markdown",
   "metadata": {},
   "source": [
    "# Array sum trick (1330)\n",
    "![Array Sum Trick](array_sum_trick.png)"
   ]
  },
  {
   "cell_type": "markdown",
   "metadata": {},
   "source": [
    "[Range Xor Queries](https://cses.fi/problemset/task/1650)\n",
    "![Range Xor Queries](range_xor_queries.png)"
   ]
  },
  {
   "cell_type": "code",
   "execution_count": 66,
   "metadata": {},
   "outputs": [],
   "source": [
    "// This is a direct application of the 'array sum trick'. You just need to know that to erase 'A ^ B' from\n",
    "// 'A ^ B ^ C ^ D' for example, you just need to do: (A ^ B) ^ (A ^ B ^ C ^ D).\n",
    "void solve_range_xor_queries(const vector<int>& values, const vector<pair<int, int>>& requests) {\n",
    "    int n = values.size();\n",
    "    vector<int> sum(n + 1);\n",
    "    for (int i = 1; i <= n; i++) {        \n",
    "        sum[i] = sum[i - 1] ^ values[i - 1];\n",
    "    }\n",
    "    for (auto [a, b] : requests) {\n",
    "        cout << (sum[b] ^ sum[a - 1]) << '\\n';\n",
    "    }    \n",
    "}"
   ]
  },
  {
   "cell_type": "code",
   "execution_count": 67,
   "metadata": {},
   "outputs": [
    {
     "name": "stdout",
     "output_type": "stream",
     "text": [
      "3\n",
      "0\n",
      "6\n",
      "4\n"
     ]
    }
   ],
   "source": [
    "solve_range_xor_queries({3, 2, 4, 5, 1, 1, 5, 3}, {{2, 4}, {5, 6}, {1, 8}, {3, 3}})"
   ]
  },
  {
   "cell_type": "markdown",
   "metadata": {},
   "source": [
    "# Matrix sum trick (1079)\n",
    "![Matrix Sum Trick](matrix_sum_trick.png)"
   ]
  },
  {
   "cell_type": "markdown",
   "metadata": {},
   "source": [
    "[Forest Queries](https://cses.fi/problemset/task/1652)\n",
    "![Forest Queries](forest_queries.png)"
   ]
  },
  {
   "cell_type": "code",
   "execution_count": 68,
   "metadata": {},
   "outputs": [],
   "source": [
    "// This is a direct application of the 'matrix sum trick'.\n",
    "void solve_forest_queries(const vector<string>& grid, const vector<tuple<int, int, int, int>>& requests) {\n",
    "    int n = grid.size();\n",
    "    vector<vector<int>> g(n + 1, vector<int>(n + 1));\n",
    "    for (int i = 1; i <= n; i++) {\n",
    "        for (int j = 1; j <= n; j++) {\n",
    "            g[i][j] = grid[i - 1][j - 1] == '*';\n",
    "        }\n",
    "    }\n",
    "    for (int i = 1; i <= n; i++) {\n",
    "        for (int j = 1; j <= n; j++) {\n",
    "            g[i][j] += g[i - 1][j] + g[i][j - 1] - g[i - 1][j - 1];\n",
    "        }\n",
    "    }\n",
    "    auto get = [&](int x1, int y1, int x2, int y2) {\n",
    "        return g[x2][y2] - g[x2][y1 - 1] - g[x1 - 1][y2] + g[x1 - 1][y1 - 1];\n",
    "    };\n",
    "    for (auto [x1, y1, x2, y2] : requests) {\n",
    "        cout << get(x1, y1, x2, y2) << '\\n';\n",
    "    }\n",
    "}"
   ]
  },
  {
   "cell_type": "code",
   "execution_count": 69,
   "metadata": {},
   "outputs": [
    {
     "name": "stdout",
     "output_type": "stream",
     "text": [
      "3\n",
      "1\n",
      "2\n"
     ]
    }
   ],
   "source": [
    "solve_forest_queries({\".*..\", \"*.**\", \"**..\", \"****\"}, {{2, 2, 3, 4}, {3, 1, 3, 1}, {1, 1, 2, 2}})"
   ]
  },
  {
   "cell_type": "markdown",
   "metadata": {},
   "source": [
    "# Segment tree (1618)\n",
    "![Segment Tree](segment_tree.png)"
   ]
  },
  {
   "cell_type": "code",
   "execution_count": 70,
   "metadata": {},
   "outputs": [],
   "source": [
    "template <typename T>\n",
    "class segment_tree {\n",
    "    struct node {\n",
    "        T sum = T{};\n",
    "        T min = std::numeric_limits<T>::max();\n",
    "        int from = 0;\n",
    "        int to = -1;\n",
    "        bool pending = false;\n",
    "        T pending_val;\n",
    "        int size() const {\n",
    "            return to - from + 1;\n",
    "        }\n",
    "    };\n",
    "    std::vector<node> heap;\n",
    "    std::vector<T>  array;\n",
    "    int heap_size;\n",
    "    int array_size;\n",
    "    int left (int p) { return p << 1; }\n",
    "    int right(int p) { return (p << 1) + 1; }\n",
    "    bool contains(int from1, int to1, int from2, int to2) {\n",
    "        return from1 <= from2 && to2 <= to1;\n",
    "    }\n",
    "    bool intersects(int from1, int to1, int from2, int to2) {\n",
    "            return (from1 <= from2 && to1 >= from2) ||\n",
    "                (from1 >= from2 && from1 <= to2);\n",
    "    }\n",
    "public:\n",
    "    segment_tree(const std::vector<T>& array) {\n",
    "        this->array = array;\n",
    "        array_size = array.size();\n",
    "        heap_size = 2 * (1 << ((int)log2(array.size()) + 1));\n",
    "        heap.resize(heap_size);\n",
    "        build(1, 0, array_size - 1);\n",
    "    }\n",
    "    segment_tree(int n) : array(n) {\n",
    "        array_size = array.size();\n",
    "        heap_size = 2 * (1 << ((int)log2(array.size()) + 1));\n",
    "        heap.resize(heap_size);\n",
    "        build(1, 0, array_size - 1);\n",
    "    }\n",
    "private:\n",
    "    void build(int heap_index, int from, int to) {\n",
    "        node& n = heap[heap_index];\n",
    "        n.from = from;\n",
    "        n.to = to;\n",
    "        if (from == to) {\n",
    "            n.sum = array[from];\n",
    "            n.min = array[from];\n",
    "        } else {\n",
    "            int middle = from + (to - from) / 2;\n",
    "            build(left(heap_index), from, middle);\n",
    "            build(right(heap_index), middle + 1, to);\n",
    "            n.sum = heap[left(heap_index)].sum + heap[right(heap_index)].sum;\n",
    "            n.min = std::min(heap[left(heap_index)].min, heap[right(heap_index)].min);\n",
    "        }\n",
    "    }\n",
    "public:\n",
    "    T get_sum(int from, int to) {\n",
    "        return get_sum(1, from, to);\n",
    "    }\n",
    "private:\n",
    "    T get_sum(int heap_index, int from, int to) {\n",
    "        node& n = heap[heap_index];\n",
    "        if (n.pending && contains(n.from, n.to, from, to)) {\n",
    "            return (to - from + 1) * n.pending_val;\n",
    "        }\n",
    "        if (contains(from, to, n.from, n.to)) {\n",
    "            return n.sum;\n",
    "        }\n",
    "        if (intersects(from, to, n.from, n.to)) {\n",
    "            propagate(heap_index);\n",
    "            return get_sum(left(heap_index), from, to) + get_sum(right(heap_index), from, to);\n",
    "        }\n",
    "        return T{};\n",
    "    }\n",
    "public:\n",
    "    T get_min(int from, int to) {\n",
    "        return get_min(1, from, to);\n",
    "    }\n",
    "private:\n",
    "    T get_min(int heap_index, int from, int to) {\n",
    "        node& n = heap[heap_index];\n",
    "        if (n.pending && contains(n.from, n.to, from, to)) {\n",
    "            return n.pending_val;\n",
    "        }\n",
    "        if (contains(from, to, n.from, n.to)) {\n",
    "            return n.min;\n",
    "        }\n",
    "        if (intersects(from, to, n.from, n.to)) {\n",
    "            propagate(heap_index);\n",
    "            return std::min(get_min(left(heap_index), from, to), get_min(right(heap_index), from, to));\n",
    "        }\n",
    "        return std::numeric_limits<T>::max();\n",
    "    }\n",
    "public:\n",
    "    void update(int from, int to, T value) {\n",
    "        update(1, from, to, value);\n",
    "    }\n",
    "private:\n",
    "    void update(int heap_index, int from, int to, T value) {\n",
    "        node& n = heap[heap_index];\n",
    "        if (contains(from, to, n.from, n.to)) {\n",
    "            change(n, value);\n",
    "        }\n",
    "        else if (intersects(from, to, n.from, n.to)) {\n",
    "            propagate(heap_index);\n",
    "            update(left(heap_index), from, to, value);\n",
    "            update(right(heap_index), from, to, value);\n",
    "            n.sum = heap[left(heap_index)].sum + heap[right(heap_index)].sum;\n",
    "            n.min = std::min(heap[left(heap_index)].min, heap[right(heap_index)].min);\n",
    "        }\n",
    "    }\n",
    "    void propagate(int heap_index) {\n",
    "        node& n = heap[heap_index];\n",
    "        if (n.pending) {\n",
    "            if (n.size() != 1) {\n",
    "                change(heap[left(heap_index)], n.pending_val);\n",
    "                change(heap[right(heap_index)], n.pending_val);\n",
    "            }\n",
    "            n.pending = false;\n",
    "        }\n",
    "    }\n",
    "    void change(node& n, int value) {\n",
    "        n.pending = true;\n",
    "        n.pending_val = value;\n",
    "        n.sum = n.size() * value;\n",
    "        n.min = value;\n",
    "        array[n.from] = value;\n",
    "    }\n",
    "};"
   ]
  },
  {
   "cell_type": "markdown",
   "metadata": {},
   "source": [
    "[Range Minimum Queries II](https://cses.fi/problemset/task/1649/)\n",
    "![Range Minimum Queries II](range_minimum_queries2.png)"
   ]
  },
  {
   "cell_type": "code",
   "execution_count": 71,
   "metadata": {},
   "outputs": [],
   "source": [
    "// Direct application of segment tree.\n",
    "void solve_range_minimum_queries_II(const vector<int>& values, const vector<tuple<int, int, int>>& queries) {\n",
    "    int n = values.size();\n",
    "    segment_tree<int> t(n);\n",
    "    for (int i = 0; i < n; i++) {\n",
    "        t.update(i, i, values[i]);\n",
    "    }\n",
    "    for (auto [q, ka, ub] : queries) {\n",
    "        if (q == 1) {\n",
    "            ka--;\n",
    "            t.update(ka, ka, ub);\n",
    "        } else {\n",
    "            ka--; ub--;\n",
    "            cout << t.get_min(ka, ub) << '\\n';\n",
    "        }\n",
    "    }\n",
    "}"
   ]
  },
  {
   "cell_type": "code",
   "execution_count": 72,
   "metadata": {},
   "outputs": [
    {
     "name": "stdout",
     "output_type": "stream",
     "text": [
      "2\n",
      "1\n",
      "3\n"
     ]
    }
   ],
   "source": [
    "solve_range_minimum_queries_II({3, 2, 4, 5, 1, 1, 5, 3}, {{2, 1, 4}, {2, 5, 6}, {1, 2, 3}, {2, 1, 4}})"
   ]
  },
  {
   "cell_type": "markdown",
   "metadata": {},
   "source": [
    "# DFS (2717)\n",
    "![DFS](dfs.png)"
   ]
  },
  {
   "cell_type": "markdown",
   "metadata": {},
   "source": [
    "## Usage example: Detect if a graph has a cycle"
   ]
  },
  {
   "cell_type": "code",
   "execution_count": 73,
   "metadata": {},
   "outputs": [],
   "source": [
    "bool graph_is_cyclic(const vector<vector<int>>& g) {\n",
    "    const int n = g[0].size(); // Number of vertices\n",
    "    enum { UNVISITED, IN_PROGRESS, DONE };\n",
    "    vector<int> status(n, UNVISITED);\n",
    "    function<bool(int)> dfs = [&](int i) {\n",
    "        if (status[i] == DONE) return false;\n",
    "        status[i] = IN_PROGRESS; // We start to explore from this vertex\n",
    "        for (auto j : g[i]) { // We visit all the children\n",
    "            if (status[j] == IN_PROGRESS) {\n",
    "                // A cycle has been detected because we go back to a vertex on the current path (see slide 2730)\n",
    "                return true;\n",
    "            }\n",
    "            if (dfs(j)) return true;\n",
    "        }\n",
    "        status[i] = DONE; // Done, we have explored all that can be reached from 'i'\n",
    "        return false;\n",
    "    };\n",
    "    for (int i = 0; i < n; i++) {\n",
    "        if (status[i] == UNVISITED && dfs(i)) return true;\n",
    "    }\n",
    "    return false;\n",
    "}"
   ]
  },
  {
   "cell_type": "code",
   "execution_count": 74,
   "metadata": {},
   "outputs": [
    {
     "name": "stdout",
     "output_type": "stream",
     "text": [
      "cyclic\n"
     ]
    }
   ],
   "source": [
    "{\n",
    "    //   .-> 4\n",
    "    //  /\n",
    "    // 0 --> 1 --> 2 --> 3\n",
    "    //       ^___________|\n",
    "    \n",
    "    vector<vector<int>> g {{1, 4}, {2}, {3}, {1}};\n",
    "    cout << (graph_is_cyclic(g) ? \"cyclic\" : \"no cycle\") << endl;\n",
    "}"
   ]
  },
  {
   "cell_type": "code",
   "execution_count": 75,
   "metadata": {},
   "outputs": [
    {
     "name": "stdout",
     "output_type": "stream",
     "text": [
      "no cycle\n"
     ]
    }
   ],
   "source": [
    "{\n",
    "    //   .-> 4\n",
    "    //  /\n",
    "    // 0 --> 1 --> 2 --> 3\n",
    "    \n",
    "    vector<vector<int>> g {{1, 4}, {2}, {3}, {}, {}};\n",
    "    cout << (graph_is_cyclic(g) ? \"cyclic\" : \"no cycle\") << endl;\n",
    "}"
   ]
  },
  {
   "cell_type": "markdown",
   "metadata": {},
   "source": [
    "# BFS (2919)\n",
    "![BFS](bfs.png)"
   ]
  },
  {
   "cell_type": "markdown",
   "metadata": {},
   "source": [
    "## Usage example: Flood fill to compute distances (2977)\n",
    "![BFS flood fill](bfs_flood_fill.png)"
   ]
  },
  {
   "cell_type": "code",
   "execution_count": 76,
   "metadata": {},
   "outputs": [],
   "source": [
    "auto bfs_flood_fill(const vector<string>& g, const vector<pair<int, int>>& destinations) {\n",
    "    const int n = g.size();\n",
    "    const int m = g[0].size();\n",
    "    vector<vector<int>> distances(n, vector<int>(m, INT_MAX)); // Initially we don't know if we can reach one of \n",
    "                                                               // the destinations from a given cell\n",
    "    auto possible = [&](int i, int j) { // Not outside of the grid and not a wall\n",
    "      return 0 <= i && i < n && 0 <= j && j < m && g[i][j] != '#';  \n",
    "    };\n",
    "    struct search_node { // To keep track of the position and the minimum distance from one of the destinations\n",
    "        int i, j;\n",
    "        int d;\n",
    "        search_node(int i, int j, int d) : i(i), j(j), d(d) {}\n",
    "        bool operator<(const search_node& n) const {\n",
    "            return d < n.d;\n",
    "        }\n",
    "    };\n",
    "    set<pair<int, int>> visited;\n",
    "    queue<search_node> q;\n",
    "    for (auto [i, j] : destinations) {\n",
    "        q.emplace(i, j, 0); // All destinations are at distance 0\n",
    "        distances[i][j] = 0;\n",
    "        visited.emplace(i, j);\n",
    "    }\n",
    "    while (!q.empty()) {\n",
    "        auto [i, j, d] = q.front(); q.pop();\n",
    "        // We scan the four neighbors            \n",
    "        for (auto [di, dj] : vector<pair<int, int>>{{0, 1},{0, -1},{1, 0},{-1, 0}}) { \n",
    "            int ii = i + di;\n",
    "            int jj = j + dj;\n",
    "            if (possible(ii, jj) && visited.count({ii, jj}) == 0) {\n",
    "                // We know the minimum distance from one of the destinations to (ii, jj)\n",
    "                visited.emplace(ii, jj);\n",
    "                q.emplace(ii, jj, d + 1);\n",
    "                distances[ii][jj] = d + 1;\n",
    "            }\n",
    "        }\n",
    "    }\n",
    "    return distances;\n",
    "}"
   ]
  },
  {
   "cell_type": "code",
   "execution_count": 77,
   "metadata": {},
   "outputs": [
    {
     "name": "stdout",
     "output_type": "stream",
     "text": [
      "  2  1  2  #  #  #  #  #  #\n",
      "  1  X  #  6  5  4  3  2  3\n",
      "  #  1  #  5  4  #  #  1  2\n",
      "  #  2  #  4  3  2  1  X  1\n",
      "  4  3  4  5  4  3  2  1  #\n",
      "  5  4  5  6  5  4  3  # 11\n",
      "  #  5  #  #  #  5  #  9 10\n",
      "  7  6  7  8  7  6  7  8  9\n"
     ]
    }
   ],
   "source": [
    "{\n",
    "    vector<string> g {\n",
    "        \"...######\",\n",
    "        \".X#......\",\n",
    "        \"#.#..##..\",\n",
    "        \"#.#....X.\",\n",
    "        \"........#\",\n",
    "        \".......#.\",\n",
    "        \"#.###.#..\",\n",
    "        \".........\",\n",
    "    };\n",
    "    auto distances = bfs_flood_fill(g, {{1, 1}, {3, 7}});\n",
    "    const int n = g.size();\n",
    "    const int m = g[0].size();\n",
    "    for (int i = 0; i < n; i++) {\n",
    "        for (int j = 0; j < m; j++) {\n",
    "            if (g[i][j] != '.') {\n",
    "                cout << setw(3) << g[i][j];\n",
    "            } else {\n",
    "                cout << setw(3) << distances[i][j];\n",
    "            }\n",
    "        }\n",
    "        cout << '\\n';\n",
    "    }\n",
    "}"
   ]
  },
  {
   "cell_type": "markdown",
   "metadata": {},
   "source": [
    "# Dijkstra (2999)\n",
    "![Dijkstra](dijkstra.png)"
   ]
  },
  {
   "cell_type": "markdown",
   "metadata": {},
   "source": [
    "**Intuition**: I suppose that (you have to convince yourself of this fact) the distances in d are the minimal distances from the source **using only vertices from S**.\n",
    "If Dijkstra was wrong, we can find a vertex v for which d[v] > best[v] (*best* is the correct array of minimal distances). When we pick vertex v at step 4, we know the minimal distance from the source to v using only vertices from S. If d[v] > best[v] it means that we can reach v from another vertex v' for which currently d[v'] >= d[v] and reduce the distance. But because **the edges have non-negative costs**, it's impossible."
   ]
  },
  {
   "cell_type": "code",
   "execution_count": 78,
   "metadata": {},
   "outputs": [],
   "source": [
    "// g: graph where pair<int, int> represents the neighbor and the cost\n",
    "// s: the source\n",
    "// Complexity: O(m*log(n)) where m is the number of edges and n the number of vertices\n",
    "auto dijkstra(const vector<vector<pair<int, int>>>& g, int s) { \n",
    "    const int n = g.size();\n",
    "    vector<int> distances(n, INT_MAX);\n",
    "    using pii = pair<int, int>;\n",
    "    priority_queue<pii, vector<pii>, greater<pii>> q; // The distance from the source and the vertex.\n",
    "                                                      // By default, the priority queue is a Max PQ, so need\n",
    "                                                      // to change the order to get a Min PQ\n",
    "    distances[s] = 0;\n",
    "    q.emplace(0, s);\n",
    "    while (!q.empty()) {\n",
    "        auto [d, i] = q.top(); q.pop();\n",
    "        if (distances[i] != d) {\n",
    "            // Important stuff going on here! If you don't do that, the complexity can become O(m*n).\n",
    "            // This is lazy dijkstra. If you pay attention you will notice that a vertex can be found\n",
    "            // multiple times in the queue (see https://cp-algorithms.com/graph/dijkstra_sparse.html).\n",
    "            // In this implementation, the priority queue can grow to be proportional to the number of \n",
    "            // edges (instead of the number of vertices if we had an indexed priority queue)\n",
    "            continue;\n",
    "        }        \n",
    "        for (auto [j, cost] : g[i]) {\n",
    "            if (d + cost < distances[j]) {\n",
    "                distances[j] = d + cost;\n",
    "                q.emplace(d + cost, j);\n",
    "            }            \n",
    "        }\n",
    "    }\n",
    "    return distances;\n",
    "}"
   ]
  },
  {
   "cell_type": "code",
   "execution_count": 79,
   "metadata": {},
   "outputs": [
    {
     "name": "stdout",
     "output_type": "stream",
     "text": [
      "0 0\n",
      "1 1\n",
      "2 7\n",
      "3 3\n",
      "4 9\n",
      "5 4\n",
      "6 7\n",
      "7 10\n"
     ]
    }
   ],
   "source": [
    "{\n",
    "    vector<vector<pair<int, int>>> g { // Same graph as in slide 3035\n",
    "        /*0*/ {{1, 1}, {2, 15}},\n",
    "        /*1*/ {{3, 2}, {2, 8}},\n",
    "        /*2*/ {{6, 10}, {4, 2}},\n",
    "        /*3*/ {{2, 4}, {5, 1}},\n",
    "        /*4*/ {{3, 1}, {5, 2}},\n",
    "        /*5*/ {{6, 3}},\n",
    "        /*6*/ {{7, 3}},\n",
    "        /*7*/ {},\n",
    "    };\n",
    "    auto distances = dijkstra(g, 0);\n",
    "    for (int i = 0; i < (int)distances.size(); i++) {\n",
    "        cout << i << ' ' << distances[i] << '\\n';\n",
    "    }\n",
    "}"
   ]
  },
  {
   "cell_type": "markdown",
   "metadata": {},
   "source": [
    "# Solution to selected problems"
   ]
  },
  {
   "cell_type": "markdown",
   "metadata": {},
   "source": [
    "## [Almost Union Find](https://kth.kattis.com/problems/almostunionfind) (1232)\n",
    "![Almost Union Find](almost_union_find.png)"
   ]
  },
  {
   "cell_type": "code",
   "execution_count": 80,
   "metadata": {},
   "outputs": [],
   "source": [
    "// The main idea here is to create fake roots to make sure that the real elements are always at the leaves.\n",
    "// Now it is easy to move an element from a tree to another one in constant time.\n",
    "\n",
    "class union_find_almost {\n",
    "private: \n",
    "  vector<int> id; // id[i] = parent of i\n",
    "  vector<int> sz; // sz[i] = number of objects in subtree rooted at i\n",
    "  vector<long> sum; // sum[i] = sum of elements in subtree rooted at i\n",
    "  int count; // number of components\n",
    "  int N;\n",
    "public:  \n",
    "  union_find_almost(int N) : id(2 * N + 1, 0), sz(N + 1, 1), sum(N + 1, 0) {\n",
    "    this->N = N;\n",
    "    count = N;\n",
    "    for (int i = 1; i <= N; i++) {\n",
    "      // Fake roots are: N + 1, N + 2, ..., 2 * N\n",
    "      id[i] = id[N + i] = N + i;\n",
    "      sum[i] = i;\n",
    "    }\n",
    "  }\n",
    "  \n",
    "  int nb_components() {\n",
    "    return count;\n",
    "  }\n",
    "  \n",
    "  int size_set(int i) {\n",
    "    return sz[find_set(i) - N];\n",
    "  }\n",
    "\n",
    "  int sum_set(int i) {\n",
    "    return sum[find_set(i) - N];\n",
    "  }\n",
    "  \n",
    "  int find_set(int i) {\n",
    "    return (id[i] == i) ? i : (id[i] = find_set(id[i]));\n",
    "  }\n",
    "  \n",
    "  bool connected(int i, int j) {\n",
    "    return find_set(i) == find_set(j);\n",
    "  }\n",
    "  \n",
    "  void union_set(int p, int q) {\n",
    "    int i = find_set(p);\n",
    "    int j = find_set(q);\n",
    "    if (i == j) return;\n",
    "    // make smaller root point to larger one\n",
    "    if (sz[i - N] < sz[j - N]) { id[i] = j; sz[j - N] += sz[i - N]; sum[j - N] += sum[i - N]; }\n",
    "    else                       { id[j] = i; sz[i - N] += sz[j - N]; sum[i - N] += sum[j - N]; }\n",
    "    count--;\n",
    "  }\n",
    "\n",
    "  void move(int p, int q) {\n",
    "    int i = find_set(p);\n",
    "    int j = find_set(q);\n",
    "    if (i == j) return;\n",
    "    id[p] = j;\n",
    "    sum[j - N] += p; sz[j - N]++;\n",
    "    sum[i - N] -= p; sz[i - N]--;\n",
    "  }\n",
    "};\n"
   ]
  },
  {
   "cell_type": "code",
   "execution_count": 81,
   "metadata": {},
   "outputs": [],
   "source": [
    "void almost_union_find(int n, const vector<vector<int>>& commands) {\n",
    "    union_find_almost uf(n + 1);\n",
    "    for (const auto& command : commands) {\n",
    "        if (command[0] == 1) {\n",
    "            int p = command[1];\n",
    "            int q = command[2];\n",
    "            uf.union_set(p, q);\n",
    "        } else if (command[0] == 2) {\n",
    "            int p = command[1];\n",
    "            int q = command[2];\n",
    "            uf.move(p, q);\n",
    "        } else {\n",
    "            int p = command[1];\n",
    "            cout << uf.size_set(p) << ' ' << uf.sum_set(p) << '\\n';\n",
    "        }\n",
    "    }\n",
    "}"
   ]
  },
  {
   "cell_type": "code",
   "execution_count": 82,
   "metadata": {},
   "outputs": [
    {
     "name": "stdout",
     "output_type": "stream",
     "text": [
      "3 12\n",
      "3 7\n",
      "2 8\n"
     ]
    }
   ],
   "source": [
    "almost_union_find(5, {{1, 1, 2}, {2, 3, 4}, {1, 3, 5}, {3, 4}, {2, 4, 1}, {3, 4}, {3, 3}})"
   ]
  },
  {
   "cell_type": "markdown",
   "metadata": {},
   "source": [
    "## [Grid Paths](https://cses.fi/problemset/task/1638/)\n",
    "![Grid Paths](grid_paths.png)"
   ]
  },
  {
   "cell_type": "code",
   "execution_count": 83,
   "metadata": {},
   "outputs": [],
   "source": [
    "int solve_grid_paths(const vector<string>& g) {\n",
    "    const int N = g.size();\n",
    "    auto possible = [&](int i, int j) {\n",
    "        return i >= 0 && i < N && j >= 0 && j < N && g[i][j] != '*';\n",
    "    };\n",
    "    const int M = 1e9 + 7;\n",
    "    vector<vector<int>> dp(N, vector<int>(N)); // dp[i][j]: how many ways to go form the start to (i, j)\n",
    "                                               // if (i, j) is not a wall:\n",
    "                                               //       dp[i][j] = dp[i-1][j] (go down) + dp[i][j-1] (go right)\n",
    "    if (g[0][0] != '*') {\n",
    "        dp[0][0] = 1; // One way to be in the starting cell\n",
    "        for (int i = 0; i < N; i++) {\n",
    "            for (int j = 0; j < N; j++) {\n",
    "                // Push dp, we go forward instead of backward, but same thing\n",
    "                if (possible(i+1, j)) (dp[i+1][j] += dp[i][j]) %= M; // (...) %= M, funky way to do the modulo\n",
    "                if (possible(i, j+1)) (dp[i][j+1] += dp[i][j]) %= M;\n",
    "            }\n",
    "        }\n",
    "    }\n",
    "    return dp[N-1][N-1]; // Number of ways to reach the lower right corner\n",
    "}"
   ]
  },
  {
   "cell_type": "code",
   "execution_count": 84,
   "metadata": {},
   "outputs": [
    {
     "data": {
      "text/plain": [
       "3"
      ]
     },
     "execution_count": 84,
     "metadata": {},
     "output_type": "execute_result"
    }
   ],
   "source": [
    "solve_grid_paths({\n",
    "    \"....\",\n",
    "    \".*..\",\n",
    "    \"...*\",\n",
    "    \"*...\",\n",
    "})"
   ]
  },
  {
   "cell_type": "markdown",
   "metadata": {},
   "source": [
    "## [Book Shop](https://cses.fi/problemset/task/1158/)\n",
    "![Book Shop](book_shop.png)"
   ]
  },
  {
   "cell_type": "code",
   "execution_count": 85,
   "metadata": {},
   "outputs": [],
   "source": [
    "int solve_book_shop(int X, const vector<int>& h, const vector<int>& s) {\n",
    "    const int N = h.size();\n",
    "    vector<int> dp(X + 1); // dp[x]: maximum number of pages for a price of x\n",
    "    // Easier to understand with dp[x][1..i], maximum number of pages with a price of 'x' if we can use \n",
    "    // the books 1 to i. \n",
    "    // The transitions:\n",
    "    //     dp[x][1..i] = max(dp[x][1..(i - 1)],                 /* we don't use book i */ \n",
    "    //                       dp[x - h[i]][1..(i - 1)] + s[i])   /* we use book i */        \n",
    "    \n",
    "    // We can use only one dimension for the 'dp' array using the following implementation\n",
    "    int res = 0;\n",
    "    for (int i = 0; i < N; i++) { // Consider each book in turn\n",
    "        int hh = h[i];\n",
    "        int ss = s[i];\n",
    "        // We have to go backward to be sure to use only once a given book (see slide 2479)\n",
    "        for (int j = X; j >= hh; j--) {\n",
    "            dp[j] = max(dp[j], dp[j - hh] + ss);\n",
    "            res = max(res, dp[j]);\n",
    "        }\n",
    "    }\n",
    "    return res;\n",
    "}"
   ]
  },
  {
   "cell_type": "code",
   "execution_count": 86,
   "metadata": {},
   "outputs": [
    {
     "data": {
      "text/plain": [
       "13"
      ]
     },
     "execution_count": 86,
     "metadata": {},
     "output_type": "execute_result"
    }
   ],
   "source": [
    "solve_book_shop(10, {4, 8, 5, 3}, {5, 12, 8, 1})"
   ]
  },
  {
   "cell_type": "markdown",
   "metadata": {},
   "source": [
    "## [Is Bigger Smarter](https://onlinejudge.org/index.php?option=com_onlinejudge&Itemid=8&category=24&page=show_problem&problem=1072)\n",
    "![Is Bigger Smarter](is_bigger_smarter.png)"
   ]
  },
  {
   "cell_type": "code",
   "execution_count": 87,
   "metadata": {},
   "outputs": [],
   "source": [
    "void solve_is_bigger_smarter(const vector<int>& weights, const vector<int>& iqs) {\n",
    "    struct elephant {\n",
    "        int weight;\n",
    "        int IQ;\n",
    "        int input_index; // To keep the original order of the elephant in the sequence\n",
    "        elephant(int w, int iq, int i) : weight(w), IQ(iq), input_index(i) {}\n",
    "        bool operator<(const elephant& e) const {\n",
    "        return weight < e.weight;\n",
    "      }\n",
    "    };\n",
    "    const int N = weights.size();\n",
    "    vector<elephant> elephants;\n",
    "    vector<int> lis(N, 1);\n",
    "    vector<int> prev(N, -1); // We need this array to retreive the sequence of elephants to print it\n",
    "    for (int i = 0; i < N; i++) {\n",
    "        elephants.emplace_back(weights[i], iqs[i], i + 1);\n",
    "    }\n",
    "    // Here we must find an order on the weights to be sure that we can't have the following situation:\n",
    "    //   W1, IQ1  .... W2, IQ2  with W1 > W2 and IQ1 < IQ2\n",
    "    // If we don't have this kind of situation, we can still use the lis algorithm as we have seen from slide 2132\n",
    "    // even if there are two criteria to check.\n",
    "    // We just need to sort the elephants in increasing weights order to achieve this.\n",
    "    // Note that in this problem, we don't have to keep the original order of the sequence. This is why we can sort\n",
    "    // the sequence.\n",
    "    sort(elephants.begin(), elephants.end());\n",
    "    int ans = 1, index = 0;\n",
    "    for (int i = 1; i < (int)elephants.size(); ++i) {\n",
    "      int best_index = -1;\n",
    "      for (int j = 0; j < i; ++j) {\n",
    "        if (elephants[j].weight != elephants[i].weight && \n",
    "            elephants[j].IQ > elephants[i].IQ && 1 + lis[j] > lis[i]) {\n",
    "              lis[i] = 1 + lis[j];\n",
    "              best_index = j;\n",
    "        }\n",
    "      }\n",
    "      prev[i] = best_index;\n",
    "      if (lis[i] > ans) {\n",
    "          ans = lis[i];\n",
    "          index = i;\n",
    "      }\n",
    "    }\n",
    "    // Now we just need to print the sequence using 'prev' from the best index 'index'\n",
    "    stack<int> s;\n",
    "    s.push(elephants[index].input_index); // Get the index of this elephant in the original sequence\n",
    "    while (prev[index] != -1) {\n",
    "      index = prev[index];\n",
    "      s.push(elephants[index].input_index);\n",
    "    }\n",
    "    cout << ans << '\\n';\n",
    "    while (!s.empty()) {\n",
    "      cout << s.top() << '\\n';\n",
    "      s.pop();\n",
    "    }\n",
    "}"
   ]
  },
  {
   "cell_type": "code",
   "execution_count": 88,
   "metadata": {},
   "outputs": [
    {
     "name": "stdout",
     "output_type": "stream",
     "text": [
      "4\n",
      "4\n",
      "5\n",
      "9\n",
      "8\n"
     ]
    }
   ],
   "source": [
    "solve_is_bigger_smarter({6008, 6000, 500, 1000, 1100, 6000, 8000, 6000, 2000}, \n",
    "                        {1300, 2100, 2000, 4000, 3000, 2000, 1400, 1200, 1900})"
   ]
  },
  {
   "cell_type": "markdown",
   "metadata": {},
   "source": [
    "## [Sum of Four Values](https://cses.fi/problemset/task/1642/)\n",
    "![Sum of Four Values](sum_of_four_values.png)"
   ]
  },
  {
   "cell_type": "code",
   "execution_count": 89,
   "metadata": {},
   "outputs": [],
   "source": [
    "void solve_sum_of_four_values(int X, const vector<int>& A) {\n",
    "    // The brute force algorithm would be the following.\n",
    "    /*  const int N = A.size();\n",
    "        for (int i = 0; i < n; i++) {\n",
    "            for (int j = i + 1; j < n; j++) {\n",
    "                for (int k = j + 1; k < n; k++) {\n",
    "                    for (int l = k + 1; l < n; l++) {\n",
    "                        if (A[i] + A[j] + A[k] + A[l] == X) {\n",
    "                            cout << A[i] << ' ' << A[j] << ' ' << A[k] << ' ' << A[l] << '\\n';\n",
    "                            return;\n",
    "                        }\n",
    "                    }\n",
    "                }\n",
    "            }\n",
    "        }\n",
    "        But this is clearly too slow: O(n^4), here n can be 1000, so (10^3)^4 = 10^12, it is way too much!\n",
    "    */\n",
    "    // node will be used to store the sum of a given pair alongside the index of each element of the pair\n",
    "    struct node {\n",
    "        ll v;\n",
    "        int i1, i2;\n",
    "        node(ll v, int i1, int i2) : v(v), i1(i1 + 1), i2(i2 + 1) {}\n",
    "        bool operator<(const node& n) const {\n",
    "            return tie(v, i1, i2) < tie(n.v, n.i1, n.i2);\n",
    "        }\n",
    "    };\n",
    "    const int N = A.size();\n",
    "    vector<node> pairs;\n",
    "    // We first construct the sum of each pairs\n",
    "    for (int i = 0; i < N; i++) {\n",
    "        for (int j = i + 1; j < N; j++) {\n",
    "            pairs.emplace_back(A[i] + A[j], i, j);\n",
    "        }\n",
    "    }\n",
    "    // We sort the pairs array to be able to use binary search\n",
    "    sort(begin(pairs), end(pairs));\n",
    "    int nn = pairs.size();\n",
    "    // Now we go through all the pairs\n",
    "    for (int i = 0; i < nn; i++) {\n",
    "        // We find the value of the other pair needed to construct the four elements\n",
    "        ll target = X - pairs[i].v;\n",
    "        // We use binary search to locate the other pair, but we need to assure that the elements\n",
    "        // used in each pairs are at different indices\n",
    "        \n",
    "        // The first element of the target pair will be found at an index strictly greater than the index of the\n",
    "        // first element of pairs[i]\n",
    "        auto it1 = lower_bound(begin(pairs), end(pairs), node{target, pairs[i].i1 + 1, -1}); \n",
    "        // We search for the last possible target pair. Note the use of upper_bound here compared to\n",
    "        // lower_bound for the first binary search (see https://www.cplusplus.com/reference/algorithm/lower_bound/)\n",
    "        auto it2 = upper_bound(begin(pairs), end(pairs), node{target, 100001, 100001});\n",
    "        // Now all the possible targets (if there are any) are between it1 and it2\n",
    "        if (it1 != end(pairs) && it1 != it2 && it1->v == target) {\n",
    "            node node1 = pairs[i];\n",
    "            if (it1->i2 == node1.i2) {\n",
    "                // If the first possible target (it1) shares the second element of pairs[i] we try to find another target\n",
    "                it1 = lower_bound(it1, it2, node{target, node1.i1 + 1, node1.i2 + 1});\n",
    "                if (it1 == it2) continue;\n",
    "            }\n",
    "            node node2 = *it1;\n",
    "            cout << node1.i1 << ' ' << node1.i2 << ' ' << node2.i1 << ' ' << node2.i2 << '\\n';\n",
    "            return;\n",
    "        }\n",
    "    }\n",
    "    cout << \"IMPOSSIBLE\\n\";\n",
    "    // We get a complexity of: O(n^2 * log(n^2)) = O(n^2 * log(n)) so all is good man\n",
    "}"
   ]
  },
  {
   "cell_type": "code",
   "execution_count": 90,
   "metadata": {},
   "outputs": [
    {
     "name": "stdout",
     "output_type": "stream",
     "text": [
      "1 5 4 6\n"
     ]
    }
   ],
   "source": [
    "solve_sum_of_four_values(15, {3, 2, 5, 8, 1, 3, 2, 3})"
   ]
  },
  {
   "cell_type": "markdown",
   "metadata": {},
   "source": [
    "## [Flipping Coins](https://www.codechef.com/problems/FLIPCOIN)\n",
    "![Flipping Coins](flipping_coins.png)"
   ]
  },
  {
   "cell_type": "code",
   "execution_count": 91,
   "metadata": {},
   "outputs": [],
   "source": [
    "namespace flipping_coins {\n",
    "    struct segment_tree {\n",
    "        struct node {\n",
    "            int sum = 0;\n",
    "            int from = 0;\n",
    "            int to = -1;\n",
    "            // For lazy propagation, is a flip pending?\n",
    "            bool pending = false;\n",
    "            int size() const {\n",
    "                return to - from + 1;\n",
    "            }\n",
    "        };\n",
    "        vector<node> heap;\n",
    "        int heap_size;\n",
    "        int array_size;\n",
    "        int left (int p) { return p << 1; }\n",
    "        int right(int p) { return (p << 1) + 1; }\n",
    "        bool contains(int from1, int to1, int from2, int to2) {\n",
    "            return from1 <= from2 && to2 <= to1;\n",
    "        }\n",
    "        bool intersects(int from1, int to1, int from2, int to2) {\n",
    "            return (from1 <= from2 && to1 >= from2) ||\n",
    "                (from1 >= from2 && from1 <= to2);\n",
    "        }\n",
    "        segment_tree(int N) {\n",
    "            array_size = N;\n",
    "            heap_size = 2 * (1 << ((int)log2(N) + 1));\n",
    "            heap.resize(heap_size);\n",
    "            build(1, 0, array_size - 1);\n",
    "        }\n",
    "        void build(int heap_index, int from, int to) {\n",
    "            node& n = heap[heap_index];\n",
    "            n.from = from;\n",
    "            n.to = to;\n",
    "            if (from != to) {\n",
    "                int middle = from + (to - from) / 2;\n",
    "                build(left(heap_index), from, middle);\n",
    "                build(right(heap_index), middle + 1, to);\n",
    "            }\n",
    "        }\n",
    "        int get_sum(int from, int to) {\n",
    "            return get_sum(1, from, to);\n",
    "        }\n",
    "        int get_sum(int heap_index, int from, int to) {\n",
    "            node& n = heap[heap_index];\n",
    "            if (!intersects(from, to, n.from, n.to)) return 0;\n",
    "            if (contains(from, to, n.from, n.to)) return n.sum;\n",
    "            // We propagate if the node is a lazy one\n",
    "            propagate(heap_index);\n",
    "            return get_sum(left(heap_index), from, to) + get_sum(right(heap_index), from, to);\n",
    "        }\n",
    "        void flip(int from, int to) {\n",
    "            flip(1, from, to);\n",
    "        }\n",
    "        void flip(int heap_index, int from, int to) {\n",
    "            node& n = heap[heap_index];\n",
    "            if (contains(from, to, n.from, n.to)) {\n",
    "                // Change will take care of the lazyness\n",
    "                change(n);\n",
    "            } else if (intersects(from, to, n.from, n.to)) {\n",
    "                // As always, we need to propagate if this node is a lazy one\n",
    "                propagate(heap_index);\n",
    "                flip(left(heap_index), from, to);\n",
    "                flip(right(heap_index), from, to);\n",
    "                n.sum = heap[left(heap_index)].sum + heap[right(heap_index)].sum;\n",
    "            }\n",
    "        }\n",
    "        void propagate(int heap_index) {\n",
    "            node& n = heap[heap_index];\n",
    "            if (n.pending) { // We propagate only if this node is a lazy one\n",
    "                n.pending = false;\n",
    "                change(heap[left(heap_index)]); // We change the status of the children\n",
    "                change(heap[right(heap_index)]);\n",
    "            }\n",
    "        }\n",
    "        void change(node& n) {\n",
    "            n.pending = !n.pending; // If this node was a lazy one, it is not anymore and its children\n",
    "                                    // won't have to be updated because two consecutive flips are equivalent\n",
    "                                    // to no flip at all for the children.\n",
    "                                    // If the node wasn't a lazy one it becomes a lazy node now\n",
    "            n.sum = n.size() - n.sum; // We update the sum of this node (we need to do this \n",
    "                                      // for a lazy or no lazy node)\n",
    "        }\n",
    "    };\n",
    "}"
   ]
  },
  {
   "cell_type": "code",
   "execution_count": 92,
   "metadata": {},
   "outputs": [],
   "source": [
    "void solve_flipping_coins(int N, const vector<tuple<int, int, int>>& requests) {\n",
    "    flipping_coins::segment_tree st(N);\n",
    "    for (const auto& [op, a, b] : requests) {\n",
    "        if (op == 0) {\n",
    "            st.flip(a, b);\n",
    "        } else {\n",
    "          cout << st.get_sum(a, b) << '\\n';\n",
    "        }\n",
    "    }\n",
    "}"
   ]
  },
  {
   "cell_type": "code",
   "execution_count": 93,
   "metadata": {},
   "outputs": [
    {
     "name": "stdout",
     "output_type": "stream",
     "text": [
      "0\n",
      "1\n",
      "0\n",
      "2\n",
      "1\n"
     ]
    }
   ],
   "source": [
    "solve_flipping_coins(4, {{1, 0, 3}, {0, 1, 2}, {1, 0, 1}, {1, 0, 0}, {0, 0, 3}, {1, 0, 3}, {1, 3, 3}})"
   ]
  },
  {
   "cell_type": "markdown",
   "metadata": {},
   "source": [
    "## [Monsters](https://cses.fi/problemset/task/1194/)\n",
    "![Monsters](monsters.png)"
   ]
  },
  {
   "cell_type": "code",
   "execution_count": 94,
   "metadata": {},
   "outputs": [],
   "source": [
    "namespace monsters {\n",
    "    using pii = pair<int, int>;\n",
    "    pii operator-(const pii& p1, const pii& p2) {\n",
    "        return {p1.first - p2.first, p1.second - p2.second};\n",
    "    }\n",
    "    pii operator+(const pii& p1, const pii& p2) {\n",
    "        return {p1.first + p2.first, p1.second + p2.second};\n",
    "    }\n",
    "}\n",
    "void solve_monsters(const vector<string>& grid) {\n",
    "    // Idea: We use two bfs to compute the distances from the monsters and the distances from the agent.\n",
    "    // Then, if we find an exit that we can reach faster than any monster, it means that we are safe to \n",
    "    // take it. We need to keep track of the best previous cell from a given cell during bfs in order\n",
    "    // to be able to print the agent path from it starting position to the chosen exit point. \n",
    "    using namespace monsters;\n",
    "    const int N = grid.size();\n",
    "    const int M = grid[0].size();\n",
    "    map<pii, string> delta2string {{{-1, 0}, \"U\"}, {{1, 0}, \"D\"}, {{0, -1}, \"L\"}, {{0, 1}, \"R\"}};\n",
    "    const int INF = 1e9;\n",
    "    vector<vector<int>> monsters(N, vector<int>(M, INF));\n",
    "    vector<vector<int>> us(N, vector<int>(M, INF));\n",
    "    queue<pii> q1, q2;\n",
    "    vector<pii> exits;\n",
    "    for (int i = 0; i < N; i++) {\n",
    "        for (int j = 0; j < M; j++) {\n",
    "            if (grid[i][j] == 'M') {\n",
    "                monsters[i][j] = 0;\n",
    "                q1.emplace(i, j);\n",
    "            }\n",
    "            if (grid[i][j] == 'A') {\n",
    "                us[i][j] = 0;\n",
    "                q2.emplace(i, j);\n",
    "            }\n",
    "            if (i == 0 || j == 0 || i == N - 1 || j == M - 1) {\n",
    "                if (grid[i][j] != '#') {\n",
    "                    exits.emplace_back(i, j);\n",
    "                }\n",
    "            }\n",
    "        }\n",
    "    }\n",
    "    map<pii, pii> prev1, prev2;\n",
    "    auto bfs = [&](queue<pii>& q, vector<vector<int>>& m, map<pii, pii>& prev) {\n",
    "        while (!q.empty()) {\n",
    "            pii cur = q.front(); q.pop();\n",
    "            for (auto delta : vector<pii>{{0,-1},{0,1},{-1,0},{1,0}}) {\n",
    "                pii nxt = cur + delta;\n",
    "                if (nxt.first >= 0 && nxt.first < N && nxt.second >= 0 && nxt.second < M &&\n",
    "                    grid[nxt.first][nxt.second] != '#' && m[nxt.first][nxt.second] == INF) {\n",
    "                    q.push(nxt);\n",
    "                    m[nxt.first][nxt.second] = m[cur.first][cur.second] + 1;\n",
    "                    prev[nxt] = cur; // We keep track here from where we came\n",
    "                }\n",
    "            }\n",
    "        }\n",
    "    };\n",
    "    bfs(q1, monsters, prev1);\n",
    "    bfs(q2, us, prev2);\n",
    "    for (pii e : exits) {\n",
    "        if (us[e.first][e.second] < monsters[e.first][e.second]) { // We can reach an exit faster than any monster\n",
    "            cout << \"YES\\n\";\n",
    "            stack<string> path;\n",
    "            pii cur = e;\n",
    "            while (prev2.count(cur)) {\n",
    "                pii nxt = prev2[cur];\n",
    "                path.push(delta2string[cur - nxt]);\n",
    "                cur = nxt;\n",
    "            }\n",
    "            cout << path.size() << '\\n';\n",
    "            while (!path.empty()) {\n",
    "                cout << path.top();\n",
    "                path.pop();\n",
    "            }\n",
    "            return;\n",
    "        }\n",
    "    }\n",
    "    cout << \"NO\\n\";\n",
    "}"
   ]
  },
  {
   "cell_type": "code",
   "execution_count": 95,
   "metadata": {},
   "outputs": [
    {
     "name": "stdout",
     "output_type": "stream",
     "text": [
      "YES\n",
      "5\n",
      "RRDDR"
     ]
    }
   ],
   "source": [
    "solve_monsters({\n",
    "    \"########\",\n",
    "    \"#M..A..#\",\n",
    "    \"#.#.M#.#\",\n",
    "    \"#M#..#..\",\n",
    "    \"#.######\",    \n",
    "})"
   ]
  },
  {
   "cell_type": "markdown",
   "metadata": {},
   "source": [
    "## [Switch The Lights](https://onlinejudge.org/index.php?option=com_onlinejudge&Itemid=8&page=show_problem&problem=3125)\n",
    "![Switch The Lights](switch_the_lights.png)"
   ]
  },
  {
   "cell_type": "code",
   "execution_count": 96,
   "metadata": {},
   "outputs": [],
   "source": [
    "void solve_switch_the_lights(const vector<vector<string>>& tests) {    \n",
    "    // In this problem, we can store efficiently the state of a given light using a bit.\n",
    "    // There is a maximum of 15 lights, so our state space is at 2^15 = 32768 max, and we have a maximum of\n",
    "    // 100 toggles, so we have a maximum of 100 transitions by state\n",
    "    for (int tc = 0; tc < (int)tests.size(); tc++) {\n",
    "        vector<int> switches;\n",
    "        const int N = tests[tc][0].size();\n",
    "        for (const auto& toggle : tests[tc]) {\n",
    "            int switch_ = 0;\n",
    "            for (int i = 0; i < (int)toggle.size(); i++) {\n",
    "                if (toggle[i] == '1') switch_ |= 1 << i; // toggle i is represented by the ith bit at 1\n",
    "            }\n",
    "            switches.emplace_back(switch_);\n",
    "        }\n",
    "        vector<bool> visited(1 << N, false);\n",
    "        queue<pair<int, int>> q; // The first element of the pair is the distance and the second the state\n",
    "        q.emplace(0, (1 << N) - 1); // (1 << N) - 1 creates a binary number with the lowest N bits set to 1.\n",
    "                                    // For example, (1 << 3) - 1 = 0b111\n",
    "                                    // This represents the state where all lights are on.\n",
    "        int res = -1;\n",
    "        while (!q.empty()) {\n",
    "            auto [distance, state] = q.front(); q.pop();\n",
    "            if (state == 0) { // All lights are off                \n",
    "                res = distance;\n",
    "                break;\n",
    "            }\n",
    "            for (int switch_ : switches) {\n",
    "                int new_state = state ^ switch_; // The exclusive or will toggle the lights where there is a 1\n",
    "                                                 // in the same position in switch_\n",
    "                if (!visited[new_state]) {\n",
    "                    visited[new_state] = true;\n",
    "                    q.emplace(distance + 1, new_state);\n",
    "                }\n",
    "            }\n",
    "        }\n",
    "        cout << \"Case \" << tc + 1 << \": \";\n",
    "        if (res == -1) cout << \"IMPOSSIBLE\\n\";\n",
    "        else cout << res << '\\n';  \n",
    "    }          \n",
    "}"
   ]
  },
  {
   "cell_type": "code",
   "execution_count": 97,
   "metadata": {},
   "outputs": [
    {
     "name": "stdout",
     "output_type": "stream",
     "text": [
      "Case 1: 2\n",
      "Case 2: IMPOSSIBLE\n"
     ]
    }
   ],
   "source": [
    "solve_switch_the_lights({{\"01\", \"10\"}, {\"101\", \"110\"}})"
   ]
  },
  {
   "cell_type": "markdown",
   "metadata": {},
   "source": [
    "## [Ones and Zeros](https://www.spoj.com/problems/ONEZERO/)\n",
    "![Ones and Zeros](ones_and_zeros.png)"
   ]
  },
  {
   "cell_type": "code",
   "execution_count": 98,
   "metadata": {},
   "outputs": [],
   "source": [
    "void solve_ones_and_zeros(const vector<int>& inputs) {\n",
    "    // We want to find a multiple k of a given n that has a given shape (only ones and zeros).\n",
    "    // To see if a given number x is a multiple of n, we can check if its modulo by n is zero.\n",
    "    // In fact, in this problem, we can take as states the possible remainders modulo n: 0..(n - 1).\n",
    "    // The starting state is 1 and the goal state is then 0, and from a given state \n",
    "    // there are two transitions: x10 and x10 + 1 to generate only numbers with ones and zeros.\n",
    "    // See from slide 2939 for more details.\n",
    "    for (int N : inputs) {\n",
    "        vector<bool> visited(N, false);\n",
    "        visited[1] = true;\n",
    "        queue<pair<int, string>> q;\n",
    "        q.emplace(1, \"1\");  \n",
    "        string res;\n",
    "        while (!q.empty()) {\n",
    "            auto [mod, s] = q.front(); q.pop();      \n",
    "            for (int i = 0; i < 2; ++i) {\n",
    "                int new_mod = (mod * 10 + i) % N;\n",
    "                if (!visited[new_mod]) {\n",
    "                    string new_s = s + to_string(i);\n",
    "                    if (new_mod == 0) {\n",
    "                        res = new_s;\n",
    "                        break;\n",
    "                    }\n",
    "                    visited[new_mod] = true;\n",
    "                    q.push(make_pair(new_mod, new_s));\n",
    "                }\n",
    "            }\n",
    "        }\n",
    "        cout << res << '\\n';\n",
    "    }\n",
    "}"
   ]
  },
  {
   "cell_type": "code",
   "execution_count": 99,
   "metadata": {},
   "outputs": [
    {
     "name": "stdout",
     "output_type": "stream",
     "text": [
      "11101\n",
      "11011\n",
      "11101\n"
     ]
    }
   ],
   "source": [
    "solve_ones_and_zeros({17, 11011, 17})"
   ]
  },
  {
   "cell_type": "markdown",
   "metadata": {},
   "source": [
    "## [Projects](https://cses.fi/problemset/task/1140)\n",
    "![Projects](projects.png)"
   ]
  },
  {
   "cell_type": "code",
   "execution_count": 100,
   "metadata": {},
   "outputs": [],
   "source": [
    "int solve_projects(const vector<tuple<int, int, int>>& projects) {\n",
    "    struct interval {\n",
    "        ll l, r, p;\n",
    "        interval(ll l, ll r, ll p) : l(l), r(r), p(p) {}\n",
    "        bool operator<(const interval& i) const {\n",
    "            return r < i.r;\n",
    "        }\n",
    "    };\n",
    "    const int N = projects.size();\n",
    "    vector<interval> intervals;\n",
    "    for (auto [l, r, p] : projects) {\n",
    "        intervals.emplace_back(l, r, p);\n",
    "    }\n",
    "    // We sort the intervals by their right border (in ascending order).\n",
    "    sort(begin(intervals), end(intervals));\n",
    "    vector<ll> dp(N); // dp[i]: the best amount of money when we consider the (i + 1) first intervals (we don't \n",
    "                      // have to pick all the (i + 1) intervals)\n",
    "    dp[0] = intervals[0].p;\n",
    "    for (int i = 1; i < N; i++) {\n",
    "        auto [l, r, p] = intervals[i];\n",
    "        // Find the leftmost possible placement of this interval with binary search\n",
    "        int index = lower_bound(begin(intervals), end(intervals), interval(0, l, 0)) - begin(intervals) - 1;\n",
    "        \n",
    "        // Because of the order in 'intervals', we could not have packed more intervals before \n",
    "        // the end of 'intervals[i]'\n",
    "        \n",
    "        ll m = dp[i - 1]; // We can ignore 'intervals[i]'\n",
    "        if (index >= 0) {\n",
    "            m = max(m, dp[index] + p); // We take it\n",
    "        } else {\n",
    "            m = max(m, p); // We take it but there is nothing before it\n",
    "        }\n",
    "        dp[i] = m;\n",
    "    }\n",
    "    return dp[N - 1]; // We have considered the first (N - 1 + 1) == N intervals, that is all the intervals\n",
    "    // Complexity: O(N*log(N))\n",
    "}"
   ]
  },
  {
   "cell_type": "code",
   "execution_count": 101,
   "metadata": {},
   "outputs": [
    {
     "data": {
      "text/plain": [
       "7"
      ]
     },
     "execution_count": 101,
     "metadata": {},
     "output_type": "execute_result"
    }
   ],
   "source": [
    "solve_projects({{2, 4, 4}, {3, 6, 6}, {6, 8, 2}, {5, 7, 3}})"
   ]
  },
  {
   "cell_type": "markdown",
   "metadata": {},
   "source": [
    "# Competition\n",
    "![Competition](competition.png)"
   ]
  },
  {
   "cell_type": "markdown",
   "metadata": {},
   "source": [
    "## [Deduplicating Files](https://open.kattis.com/contests/o2o4qh/problems/deduplicatingfiles)\n",
    "![Deduplicating Files](deduplicating_files.png)"
   ]
  },
  {
   "cell_type": "code",
   "execution_count": 102,
   "metadata": {},
   "outputs": [],
   "source": [
    "void solve_deduplicating_files(const vector<vector<string>>& files) {\n",
    "    for (const auto& file : files) {\n",
    "        const int n = file.size();\n",
    "        vector<char> hash(n, 0);\n",
    "        for (int i = 0; i < n; ++i) {\n",
    "            // Computes the hash of each files\n",
    "            for (int j = 0; j < (int)file[i].size(); ++j) {\n",
    "                hash[i] ^= file[i][j];\n",
    "            }\n",
    "        }\n",
    "        int nb_collisions = 0;\n",
    "        int nb_uniques = n; // We suppose at the beginning that all files are unique\n",
    "        for (int i = 0; i < n; ++i) {\n",
    "            bool unique = true;\n",
    "            for (int j = i + 1; j < n; ++j) {\n",
    "                if (hash[i] == hash[j]) {\n",
    "                    if (file[i] == file[j]) unique = false; // Collision but it is the same file \n",
    "                    else ++nb_collisions; // Real collision\n",
    "                }\n",
    "            }\n",
    "            if (!unique) --nb_uniques;\n",
    "        }\n",
    "        cout << nb_uniques << \" \" << nb_collisions << endl;\n",
    "    }\n",
    "}"
   ]
  },
  {
   "cell_type": "code",
   "execution_count": 103,
   "metadata": {},
   "outputs": [
    {
     "name": "stdout",
     "output_type": "stream",
     "text": [
      "3 2\n",
      "4 6\n"
     ]
    }
   ],
   "source": [
    "solve_deduplicating_files({\n",
    "    {\n",
    "        \"four score and seven years ago\", \n",
    "        \"score four and seven years ago\", \n",
    "        \"four score and seven years ago\", \n",
    "        \"ask not what your country can do for you\",\n",
    "    }, \n",
    "    {\n",
    "        \"the quick brown fox jumped over the lazy dog\",\n",
    "        \"over the lazy dog the quick brown fox jumped\",\n",
    "        \"the lazy quick fox jumped over the brown dog\",\n",
    "        \"the quick lazy dog over the brown fox jumped\",\n",
    "    },\n",
    "})"
   ]
  },
  {
   "cell_type": "markdown",
   "metadata": {},
   "source": [
    "## [Froshweek](https://open.kattis.com/contests/o2o4qh/problems/froshweek)\n",
    "![Froshweek](froshweek.png)"
   ]
  },
  {
   "cell_type": "code",
   "execution_count": 104,
   "metadata": {},
   "outputs": [],
   "source": [
    "void solve_frosh_week(const vector<int>& team) {\n",
    "    // For this problem you have to know the following fact: In a given array, the minimum number of swaps to\n",
    "    // sort it is equal to the number of inversions in the array. An inversion is two elements in the array A\n",
    "    // such that: i < j and A[i] > A[j]\n",
    "    int N = team.size();      \n",
    "    map<int, int> m;\n",
    "    vector<int> sorted_team = team;\n",
    "    sort(begin(sorted_team), end(sorted_team));\n",
    "    for (int i = 0; i < N; ++i) {\n",
    "        m[sorted_team[i]] = i; // Maps the student number to its index in the sorted array\n",
    "    }\n",
    "    segment_tree<int> st(N); // To count inversions. The segment tree will cover the whole set of indices [0, N-1].\n",
    "                             // We will progressively put a 1 in each student index in the sorted array \n",
    "    long long nb_inversions = 0;\n",
    "    auto increase = [&](int i, int v) {\n",
    "        int old = st.get_sum(i, i);\n",
    "        st.update(i, i, old + 1);\n",
    "    };\n",
    "    for (int i = 0; i < N; ++i) {\n",
    "        nb_inversions += st.get_sum(m[team[i]], N - 1); // We scan the students from left to right, for a given\n",
    "                                                        // student, let's 'ii' be its index in the sorted array.\n",
    "                                                        // The number of students in the positions [ii, N - 1] we\n",
    "                                                        // have already seen corresponds to the number of inversions\n",
    "                                                        // for student i (the students in [ii, N - 1] where seen \n",
    "                                                        // before in this for loop, but there positions in the\n",
    "                                                        // sorted sequence is after)\n",
    "        increase(m[team[i]], 1);\n",
    "    }\n",
    "    cout << nb_inversions << endl;\n",
    "}"
   ]
  },
  {
   "cell_type": "code",
   "execution_count": 105,
   "metadata": {},
   "outputs": [
    {
     "name": "stdout",
     "output_type": "stream",
     "text": [
      "2\n"
     ]
    }
   ],
   "source": [
    "solve_frosh_week({3, 1, 2})"
   ]
  },
  {
   "cell_type": "markdown",
   "metadata": {},
   "source": [
    "## [Kastenlauf](https://open.kattis.com/contests/o2o4qh/problems/kastenlauf)\n",
    "![Kastenlauf](kastenlauf.png)"
   ]
  },
  {
   "cell_type": "code",
   "execution_count": 106,
   "metadata": {},
   "outputs": [],
   "source": [
    "void solve_kastenlauf(const vector<vector<pair<int, int>>>& tests) {\n",
    "    const int MAX = 50 * 20; // Max distance with our 20 beers\n",
    "    using coord = pair<int, int>;\n",
    "    auto distance = [&](coord c1, coord c2) {\n",
    "        return abs(c1.first - c2.first) + abs(c1.second - c2.second);\n",
    "    };\n",
    "    for (const auto& test : tests) {\n",
    "        map<coord, vector<coord>> g; // In this graph, each connected vertices are less than MAX appart\n",
    "        // All the possible edges between the locations\n",
    "        for (auto coord1 : test) {\n",
    "            for (auto coord2 : test) {\n",
    "                if (coord1 == coord2 || distance(coord1, coord2) > MAX) continue;\n",
    "                g[coord1].emplace_back(coord2);\n",
    "            }\n",
    "        }\n",
    "        set<coord> visited;\n",
    "        function<bool(coord, coord)> dfs = [&](coord current, coord  Bergkirchweih) {\n",
    "            if (visited.count(current)) return false;\n",
    "            if (current == Bergkirchweih) return true;\n",
    "            visited.insert(current);\n",
    "            for (auto c : g[current]) {\n",
    "                if (dfs(c, Bergkirchweih)) return true;\n",
    "            }\n",
    "            return false;\n",
    "        };\n",
    "        // Now we just try to reach the destination from the start using dfs (bfs would work too \n",
    "        // but no need to find the minimum distance)\n",
    "        if (dfs(test[0], test[test.size() - 1])) cout << \"happy\\n\";\n",
    "        else cout << \"sad\\n\";\n",
    "    }\n",
    "}"
   ]
  },
  {
   "cell_type": "code",
   "execution_count": 107,
   "metadata": {},
   "outputs": [
    {
     "name": "stdout",
     "output_type": "stream",
     "text": [
      "happy\n",
      "sad\n"
     ]
    }
   ],
   "source": [
    "solve_kastenlauf({{{0, 0}, {1000, 0}, {1000, 1000}, {2000, 1000}}, \n",
    "                  {{0, 0}, {1000, 0}, {2000, 1000}, {2000, 2000}}})"
   ]
  },
  {
   "cell_type": "markdown",
   "metadata": {},
   "source": [
    "## [Peg Solitaire](https://open.kattis.com/contests/o2o4qh/problems/solitaire)\n",
    "![Peg Solitaire](peg_solitaire.png)"
   ]
  },
  {
   "cell_type": "code",
   "execution_count": 108,
   "metadata": {},
   "outputs": [],
   "source": [
    "void solve_peg_solitaire(const vector<vector<string>>& tests) { // We will bruteforce our way to victory\n",
    "    char grid[7][11];\n",
    "    auto count = [&] {\n",
    "      int res = 0;\n",
    "      for (int i = 1; i < 6; ++i)\n",
    "          for (int j = 1; j < 10; ++j)\n",
    "              if (grid[i][j] == 'o') ++res;\n",
    "      return res;\n",
    "    };\n",
    "    auto possible = [&](int i, int j, int di, int dj) {\n",
    "      return grid[i + di][j + dj] == 'o' && grid[i + 2 * di][j + 2 * dj] == '.';\n",
    "    };\n",
    "    int delta_i[] = {0, 0, -1, 1};\n",
    "    int delta_j[] = {-1, 1, 0, 0};\n",
    "    int res, nb_moves;\n",
    "    // We try all the possibilities with recursive backtracking\n",
    "    function<void(int, int, int)> backtracking = [&](int i, int j, int nb) {\n",
    "        if (i == 6) return; // It is over, we go through all rows\n",
    "        if (j == 10) return backtracking(i + 1, 1, nb); // We reach the end of the row, so go to the next one\n",
    "        if (grid[i][j] != 'o') return backtracking(i, j + 1, nb); // If it's not a piece move on\n",
    "        int v = count(); // Count the number of pieces\n",
    "        if (v < res) { // Yeah, a better solution\n",
    "            res = v;\n",
    "            nb_moves = nb;\n",
    "        }\n",
    "        for (int k = 0; k < 4; ++k) { // Try all the legal moves for the current piece\n",
    "            int di = delta_i[k];\n",
    "            int dj = delta_j[k];\n",
    "            if (possible(i, j, di, dj)) {\n",
    "                grid[i][j] = '.'; // The current piece move from its cell, so it is no more on (i, j)\n",
    "                grid[i + di][j + dj] = '.'; // We jump over the piece in (i + di, j + dj) and it disappears\n",
    "                grid[i + 2 * di][j + 2 * dj] = 'o'; // We reach this cell\n",
    "                backtracking(1, 1, nb + 1); // Bruteforce all the way up to the end\n",
    "                // Now restore the previous situation (we erase our previous move)\n",
    "                grid[i][j] = 'o';\n",
    "                grid[i + di][j + dj] = 'o';\n",
    "                grid[i + 2 * di][j + 2 * dj] = '.';\n",
    "            }\n",
    "        }\n",
    "        backtracking(i, j + 1, nb); // We don't have to make a move with the current piece\n",
    "    };\n",
    "    for (const auto& test : tests) {\n",
    "        memset(grid, '#', sizeof grid); // We use sentinels around the grid to make the code easier\n",
    "        nb_moves = 0;\n",
    "        for (int i = 1; i < 6; i++)\n",
    "            for (int j = 1; j < 10; j++)\n",
    "                grid[i][j] = test[i - 1][j - 1];\n",
    "        res = count();\n",
    "        backtracking(1, 1, 0);\n",
    "        cout << res << ' ' << nb_moves << '\\n';\n",
    "    }\n",
    "}"
   ]
  },
  {
   "cell_type": "code",
   "execution_count": 109,
   "metadata": {},
   "outputs": [
    {
     "name": "stdout",
     "output_type": "stream",
     "text": [
      "1 3\n",
      "1 7\n",
      "1 7\n"
     ]
    }
   ],
   "source": [
    "solve_peg_solitaire({\n",
    "    {\n",
    "        \"###...###\",\n",
    "        \"..oo.....\",\n",
    "        \".....oo..\",\n",
    "        \".........\",\n",
    "        \"###...###\",\n",
    "    },\n",
    "    {\n",
    "        \"###...###\",\n",
    "        \"..oo.o...\",\n",
    "        \"...o.oo..\",\n",
    "        \"...oo....\",\n",
    "        \"###...###\",            \n",
    "    },\n",
    "    {\n",
    "        \"###o..###\",\n",
    "        \".o.oo....\",\n",
    "        \"o.o......\",\n",
    "        \".o.o.....\",\n",
    "        \"###...###\",        \n",
    "    },\n",
    "})"
   ]
  },
  {
   "cell_type": "markdown",
   "metadata": {},
   "source": [
    "## [What Does It Mean?](https://open.kattis.com/contests/o2o4qh/problems/heritage)\n",
    "![What Does It Mean?](what_does_it_mean.png)"
   ]
  },
  {
   "cell_type": "code",
   "execution_count": 110,
   "metadata": {},
   "outputs": [],
   "source": [
    "ll solve_what_does_it_mean_top_down(const string& name, const vector<pair<string, int>>& words) {\n",
    "    const int M = 1e9 + 7;\n",
    "    map<string, int> dic;\n",
    "    for (const auto& [word, nb_meanings] : words) {\n",
    "        dic[word] = nb_meanings;\n",
    "    }\n",
    "    ll memo[33][33];\n",
    "    memset(memo, -1, sizeof memo);\n",
    "    // Let's solve this DP with a top-down approach.\n",
    "    // solve(i, j): Number of meaning from the position 'left' to the end of 'name' with current prefix \n",
    "    // between [left, right]\n",
    "    function<ll(int, int)> solve = [&](int left, int right) -> ll {\n",
    "        string sub = name.substr(left, right - left + 1);\n",
    "        if (right == (int)name.size() - 1) return dic[sub]; // We've reached the end of 'name'\n",
    "        ll& res = memo[left][right];\n",
    "        if (res != -1) return res;\n",
    "        res = 0;\n",
    "        if (dic.count(sub)) {\n",
    "            // Number of meaning for the prefix times the number of meaning for the rest of 'name'\n",
    "            res += dic[sub] * solve(right + 1, right + 1);\n",
    "            res %= M;\n",
    "        }\n",
    "        res = (res + solve(left, right + 1)) % M; // We increase the prefix\n",
    "        return res;\n",
    "    };\n",
    "    return solve(0, 0);\n",
    "}"
   ]
  },
  {
   "cell_type": "code",
   "execution_count": 111,
   "metadata": {},
   "outputs": [
    {
     "data": {
      "text/plain": [
       "6"
      ]
     },
     "execution_count": 111,
     "metadata": {},
     "output_type": "execute_result"
    }
   ],
   "source": [
    "solve_what_does_it_mean_top_down(\"heimark\", {{\"hei\", 2}, {\"mark\", 2}, {\"heim\", 1}, {\"ark\", 2}, {\"heima\", 1}})"
   ]
  },
  {
   "cell_type": "code",
   "execution_count": 112,
   "metadata": {},
   "outputs": [],
   "source": [
    "ll solve_what_does_it_mean_bottom_up(const string& name, const vector<pair<string, int>>& words) {\n",
    "    const int M = 1e9 + 7;\n",
    "    map<string, int> dic;\n",
    "    for (const auto& [word, nb_meanings] : words) {\n",
    "        dic[word] = nb_meanings;\n",
    "    }\n",
    "    int size = name.size();\n",
    "    vector<vector<ll>> dp(size, vector<ll>(size));\n",
    "    for (int i = 0; i < size; i++) {\n",
    "      for (int j = i; j >= 0; j--) {\n",
    "          for (int k = j; k <= i; k++) {\n",
    "              string s = name.substr(j, k - j + 1); // Because name doesn't change, we could go faster here.\n",
    "                                                    // Only the left and right indices of the substring are\n",
    "                                                    // important.\n",
    "              (dp[j][i] += dic[s] * (k == i ? 1 : dp[k + 1][i])) %= M;\n",
    "          }\n",
    "      }\n",
    "  }\n",
    "  return dp[0][size - 1];\n",
    "}"
   ]
  },
  {
   "cell_type": "code",
   "execution_count": 113,
   "metadata": {},
   "outputs": [
    {
     "data": {
      "text/plain": [
       "6"
      ]
     },
     "execution_count": 113,
     "metadata": {},
     "output_type": "execute_result"
    }
   ],
   "source": [
    "solve_what_does_it_mean_bottom_up(\"heimark\", {{\"hei\", 2}, {\"mark\", 2}, {\"heim\", 1}, {\"ark\", 2}, {\"heima\", 1}})"
   ]
  },
  {
   "cell_type": "markdown",
   "metadata": {},
   "source": [
    "## [Coast Length](https://open.kattis.com/contests/o2o4qh/problems/coast)\n",
    "![Coast Length](coast_length.png)"
   ]
  },
  {
   "cell_type": "code",
   "execution_count": 114,
   "metadata": {},
   "outputs": [],
   "source": [
    "int solve_coast_length(const vector<string>& grid) {\n",
    "    vector<int> di {0, 0, -1, 1}; //\n",
    "    vector<int> dj {-1, 1, 0, 0}; // Left, Right, Up, Down\n",
    "    const int N = grid.size();\n",
    "    const int M = grid[0].size();\n",
    "    vector<vector<int>> g(N + 4, vector<int>(M + 4)); // Create a grid with water around the original grid\n",
    "                                                      // and sentinels to avoid testing for out of bounds\n",
    "    for (int i = 0; i <= N + 3; ++i) {\n",
    "        g[i][0] = g[i][M + 3] = -1; // Sentinels\n",
    "    }        \n",
    "    for (int j = 0; j <= M + 3; ++j) {\n",
    "        g[0][j] = g[N + 3][j] = -1; // Sentinels\n",
    "    }    \n",
    "    for (int i = 2; i < N + 2; ++i) {\n",
    "      for (int j = 2; j < M + 2; ++j) {\n",
    "          g[i][j] = grid[i - 2][j - 2] - '0'; // The original grid\n",
    "      }\n",
    "    }\n",
    "    auto count_around = [&](int i, int j) { // Count the number of lands around the (i, j) point\n",
    "      int res = 0;\n",
    "      for (int k = 0; k < 4; ++k) {\n",
    "          res += g[i + di[k]][j + dj[k]] == 1;\n",
    "      }\n",
    "      return res;\n",
    "    };\n",
    "    function<int(int, int)> flood_fill = [&](int i, int j) {\n",
    "      if (g[i][j] != 0) return 0;\n",
    "      g[i][j] = -1;\n",
    "      int res = count_around(i, j);\n",
    "      for (int k = 0; k < 4; ++k) {\n",
    "          res += flood_fill(i + di[k], j + dj[k]);\n",
    "      }\n",
    "      return res;\n",
    "    };\n",
    "    int res = 0;\n",
    "    // We flood fill from the fake water we created around the original grid\n",
    "    for (int j = 1; j <= M + 2; ++j) { \n",
    "      res += flood_fill(1, j);\n",
    "      res += flood_fill(N + 2, j);\n",
    "    }\n",
    "    for (int i = 1; i <= N + 2; ++i) {\n",
    "      res += flood_fill(i, 1);\n",
    "      res += flood_fill(i, M + 2);\n",
    "    }\n",
    "    return res;\n",
    "}"
   ]
  },
  {
   "cell_type": "code",
   "execution_count": 115,
   "metadata": {},
   "outputs": [
    {
     "data": {
      "text/plain": [
       "20"
      ]
     },
     "execution_count": 115,
     "metadata": {},
     "output_type": "execute_result"
    }
   ],
   "source": [
    "solve_coast_length(\n",
    "    {\n",
    "        \"011110\",\n",
    "        \"010110\",\n",
    "        \"111000\",\n",
    "        \"000010\",\n",
    "        \"000000\",\n",
    "    }\n",
    ")"
   ]
  },
  {
   "cell_type": "markdown",
   "metadata": {},
   "source": [
    "## [Breaking Bad](https://open.kattis.com/contests/o2o4qh/problems/breakingbad)\n",
    "![Breaking Bad](breaking_bad.png)"
   ]
  },
  {
   "cell_type": "code",
   "execution_count": 116,
   "metadata": {},
   "outputs": [],
   "source": [
    "void solve_breaking_bad(const vector<string>& items, const vector<pair<string, string>>& suspicious) {\n",
    "    // We construct a graph where the vertices are the products and the edges are the pairs in 'suspicious'.\n",
    "    // Now we must assign vertices to Walter and the remaining to Jesse, such that no edge can go from one\n",
    "    // vertex of Walter to another of Walter and no edge can go from one vertex of Jesse to another vertex assigned\n",
    "    // to Jesse.\n",
    "    // All of this is equivalent to color the graph with two colors. We can do this with a dfs.\n",
    "    const int N = items.size();\n",
    "    const int M = suspicious.size();\n",
    "    map<string, int> name2index;\n",
    "    map<int, string> index2name;\n",
    "    for (int i = 0; i < (int)items.size(); i++) {\n",
    "        name2index[items[i]] = i;\n",
    "        index2name[i] = items[i];\n",
    "    }\n",
    "    vector<vector<int>> g(N);\n",
    "    for (const auto& [item1, item2] : suspicious) {\n",
    "        int ix1 = name2index[item1];\n",
    "        int ix2 = name2index[item2];\n",
    "        g[ix1].push_back(ix2);\n",
    "        g[ix2].push_back(ix1);\n",
    "    }\n",
    "    vector<int> colors(N, -1);\n",
    "    // This function try to color the graph with only two colors\n",
    "    function<bool(int, int)> bipartite = [&](int i, int c) {\n",
    "      if (colors[i] != -1) return true;\n",
    "      colors[i] = c;\n",
    "      for (int j : g[i]) {\n",
    "          if (colors[j] == -1) { // We haven't colored the vertex 'j' yet\n",
    "            if (bipartite(j, 1 - c) == false) // We color it with the other color\n",
    "                return false;                 // it's impossible to solve the problem.\n",
    "          } else if (colors[j] == c) return false; // If the color is the same as the current vertex 'i',\n",
    "      }\n",
    "      return true;\n",
    "    };\n",
    "    for (int i = 0; i < N; i++) {\n",
    "        if (colors[i] == -1) {\n",
    "            if (bipartite(i, 0) == false) return cout << \"impossible\\n\", 0;\n",
    "        }\n",
    "    }\n",
    "    vector<string> walter, jesse;\n",
    "    // It just remains to assign one color to Walter and the other one to Jesse.\n",
    "    for (int i = 0; i < N; i++) {\n",
    "        (colors[i] ? walter : jesse).push_back(index2name[i]);\n",
    "    }\n",
    "    copy(begin(walter), end(walter), ostream_iterator<string>(cout, \" \"));\n",
    "    cout << '\\n';\n",
    "    copy(begin(jesse), end(jesse), ostream_iterator<string>(cout, \" \"));\n",
    "}"
   ]
  },
  {
   "cell_type": "code",
   "execution_count": 117,
   "metadata": {},
   "outputs": [
    {
     "name": "stdout",
     "output_type": "stream",
     "text": [
      "cold_medicine lantern_fuel \n",
      "battery_acid drain_cleaner antifreeze \n",
      "\n",
      "impossible\n"
     ]
    }
   ],
   "source": [
    "solve_breaking_bad({\"battery_acid\", \"drain_cleaner\", \"antifreeze\", \"cold_medicine\", \"lantern_fuel\"},\n",
    "                   {{\"cold_medicine\", \"battery_acid\"}, {\"antifreeze\", \"lantern_fuel\"}});\n",
    "cout << \"\\n\\n\";\n",
    "solve_breaking_bad({\"fuel\", \"lighter\", \"knife\"},\n",
    "                   {{\"fuel\", \"lighter\"}, {\"lighter\", \"knife\"}, {\"knife\", \"fuel\"}});"
   ]
  },
  {
   "cell_type": "markdown",
   "metadata": {},
   "source": [
    "## [Bachet's Game](https://open.kattis.com/contests/o2o4qh/problems/bachetsgame)\n",
    "![Bachet's Game](bachet_game.png)"
   ]
  },
  {
   "cell_type": "code",
   "execution_count": 118,
   "metadata": {},
   "outputs": [],
   "source": [
    "void solve_bachet_game(const vector<pair<int, vector<int>>>& inputs) {\n",
    "    // We use the same principle explained from slide 101\n",
    "    constexpr int W = 1; // Winning state for the player\n",
    "    constexpr int L = 0; // Losing state for the player\n",
    "    for (const auto& [n, stones] : inputs) {\n",
    "        vector<int> game_value(n + 1, L);\n",
    "        for (int i = 0; i <= n; i++) {\n",
    "            if (game_value[i] == L) {\n",
    "                for (int stone : stones) {\n",
    "                    if (i + stone <= n) {\n",
    "                        game_value[i + stone] = W; // This a winning state, because it can reached a losing one.\n",
    "                    }                              // The other states are losing because they cannot reached\n",
    "                                                   // a losing one (they only reached winning states)\n",
    "                }\n",
    "            }\n",
    "        }\n",
    "        cout << (game_value[n] == W ? \"Stan wins\" : \"Ollie wins\") << '\\n';\n",
    "    }\n",
    "}"
   ]
  },
  {
   "cell_type": "code",
   "execution_count": 119,
   "metadata": {},
   "outputs": [
    {
     "name": "stdout",
     "output_type": "stream",
     "text": [
      "Stan wins\n",
      "Stan wins\n",
      "Ollie wins\n",
      "Stan wins\n",
      "Stan wins\n",
      "Ollie wins\n"
     ]
    }
   ],
   "source": [
    "solve_bachet_game({\n",
    "    {20, {1, 3, 8}},\n",
    "    {21, {1, 3, 8}},\n",
    "    {22, {1, 3, 8}},\n",
    "    {23, {1, 3, 8}},\n",
    "    {1000000, {1, 23, 38, 11, 7, 5, 4, 8, 3, 13}},\n",
    "    {999996, {1, 23, 38, 11, 7, 5, 4, 8, 3, 13}},\n",
    "})"
   ]
  },
  {
   "cell_type": "markdown",
   "metadata": {},
   "source": [
    "## [How Many Digits](https://open.kattis.com/contests/o2o4qh/problems/howmanydigits)\n",
    "![How Many Digits](how_many_digits.png)"
   ]
  },
  {
   "cell_type": "code",
   "execution_count": 120,
   "metadata": {},
   "outputs": [],
   "source": [
    "void solve_how_many_digits(const vector<int>& inputs) {\n",
    "    constexpr int MAX = 1000010;\n",
    "    vector<double> memo(MAX);\n",
    "    memo[0] = 1; // 0! has one digit\n",
    "    // Number of digits of n > 0 is: int(1 + log10(n))\n",
    "    // log10( n! ) = log10( n ) + log10( (n-1)! )\n",
    "    for (int i = 1; i < MAX; i++) {\n",
    "        memo[i] = log10(i) + memo[i - 1];\n",
    "    }\n",
    "    for (int n : inputs) {\n",
    "        cout << int(memo[n]) << '\\n';\n",
    "    }\n",
    "}"
   ]
  },
  {
   "cell_type": "code",
   "execution_count": 121,
   "metadata": {},
   "outputs": [
    {
     "name": "stdout",
     "output_type": "stream",
     "text": [
      "1\n",
      "1\n",
      "1\n",
      "7\n",
      "19\n"
     ]
    }
   ],
   "source": [
    "solve_how_many_digits({0, 1, 3, 10, 20});"
   ]
  },
  {
   "cell_type": "markdown",
   "metadata": {},
   "source": [
    "## [Get Shorty](https://open.kattis.com/contests/o2o4qh/problems/getshorty)\n",
    "![Get Shorty](get_shorty.png)"
   ]
  },
  {
   "cell_type": "code",
   "execution_count": 122,
   "metadata": {},
   "outputs": [],
   "source": [
    "void solve_get_shorty(const vector<pair<int, vector<tuple<int, int, double>>>>& inputs) {\n",
    "    // We use dijkstra to solve the problem, but instead of looking for the shorter path, we are looking for\n",
    "    // the bigger one. Is it still working?\n",
    "    // Here, we have a factor 'f' that is between 0 and 1. We can use the same reasoning that we did for the\n",
    "    // real dijkstra. Suppose that we know the biggest value we can get for a set of vertices S = {v1, ..., vk}\n",
    "    // and we have to choose a new vertex that is not in S but is directly reachable from a vertex of S.\n",
    "    // If we choose the one that has the biggest value, call it v_new, can we get back to it later \n",
    "    // and increase its value?\n",
    "    // No, because '0 <= f <= 1' so, by using another vertex not in S, the value of this other vertex \n",
    "    // can only decrease to reach v_new (ok it's not very formal, but I hope it gets to the point)\n",
    "    for (const auto& [N, edges] : inputs) {\n",
    "        vector<vector<pair<int, double>>> g(N);\n",
    "        for (const auto& [a, b, w] : edges) {\n",
    "            g[a].emplace_back(b, w);\n",
    "            g[b].emplace_back(a, w);\n",
    "        }\n",
    "        // dijkstra\n",
    "        vector<double> dist(N);\n",
    "        vector<bool> visited(N);\n",
    "        priority_queue<pair<double, int>> pq;\n",
    "        pq.emplace(1, 0);\n",
    "        while (!pq.empty()) {\n",
    "            auto [d, i] = pq.top(); pq.pop();\n",
    "            if (visited[i]) continue;\n",
    "            visited[i] = true;\n",
    "            for (auto [j, w] : g[i]) {\n",
    "                double cost = d * w;\n",
    "                if (cost > dist[j]) {\n",
    "                    dist[j] = cost;\n",
    "                    pq.emplace(cost, j);\n",
    "                }\n",
    "            }\n",
    "        }\n",
    "        cout << fixed << setprecision(4) << dist[N - 1] << '\\n';        \n",
    "    }\n",
    "}\n",
    "/*\n",
    "3 3\n",
    "0 1 0.9\n",
    "1 2 0.9\n",
    "0 2 0.8\n",
    "2 1\n",
    "1 0 1\n",
    "0 0*/"
   ]
  },
  {
   "cell_type": "code",
   "execution_count": 123,
   "metadata": {},
   "outputs": [
    {
     "name": "stdout",
     "output_type": "stream",
     "text": [
      "0.8100\n",
      "1.0000\n"
     ]
    }
   ],
   "source": [
    "solve_get_shorty({\n",
    "    {3, {{0, 1, 0.9}, {1, 2, 0.9}, {0, 2, 0.8}}},\n",
    "    {2, {{1, 0, 1}}},\n",
    "})"
   ]
  },
  {
   "cell_type": "markdown",
   "metadata": {},
   "source": [
    "## [Bing It On](https://open.kattis.com/contests/o2o4qh/problems/bing)\n",
    "![Bing It On](bing_it_on.png)"
   ]
  },
  {
   "cell_type": "code",
   "execution_count": 124,
   "metadata": {},
   "outputs": [],
   "source": [
    "void solve_bing_it_on(const vector<string>& words) {\n",
    "    map<string, int> m; // remember the current count for each prefixes\n",
    "    for (const auto& w : words) {\n",
    "        cout << m[w] << '\\n';\n",
    "        for (int l = 1; l <= (int)w.size(); l++) { // all the prefixes\n",
    "            m[w.substr(0, l)]++;\n",
    "        }\n",
    "    }\n",
    "}"
   ]
  },
  {
   "cell_type": "code",
   "execution_count": 125,
   "metadata": {},
   "outputs": [
    {
     "name": "stdout",
     "output_type": "stream",
     "text": [
      "0\n",
      "0\n",
      "0\n",
      "2\n",
      "1\n",
      "3\n",
      "1\n",
      "0\n",
      "0\n",
      "3\n"
     ]
    }
   ],
   "source": [
    "solve_bing_it_on({\n",
    "    \"histories\",\n",
    "    \"adventure\",\n",
    "    \"histrory\",\n",
    "    \"his\",\n",
    "    \"ad\",\n",
    "    \"hi\",\n",
    "    \"advent\",\n",
    "    \"mouse\",\n",
    "    \"cat\",\n",
    "    \"his\",\n",
    "})"
   ]
  },
  {
   "cell_type": "markdown",
   "metadata": {},
   "source": [
    "## [Deathstar](https://open.kattis.com/contests/o2o4qh/problems/deathstar)\n",
    "![Deathstar](deathstar.png)"
   ]
  },
  {
   "cell_type": "code",
   "execution_count": 126,
   "metadata": {},
   "outputs": [],
   "source": [
    "auto solve_deathstar(const vector<vector<int>>& matrix) {\n",
    "    // Let 'n1' and 'n2' two numbers and 'n3 = n1 & n2'. A bit is set in 'n3' iff it is set in both 'n1'\n",
    "    // and 'n2'. So, for a given row 'i', the number 'a_i' for this row must have the same bits set as all the \n",
    "    // other numbers in this row. The same reasoning is true for a given column.\n",
    "    // We cannot set all the bits to one, because we have the constraint 0 <= a <= 1e9.\n",
    "    const int N = matrix.size();\n",
    "    vector<int> res(N);\n",
    "    for (int i = 0; i < N; i++) {\n",
    "        for (int j = 0; j < N; j++) {\n",
    "            res[i] |= matrix[i][j];\n",
    "            res[j] |= matrix[i][j];\n",
    "        }\n",
    "    }\n",
    "    return res;\n",
    "}"
   ]
  },
  {
   "cell_type": "code",
   "execution_count": 127,
   "metadata": {},
   "outputs": [
    {
     "data": {
      "text/plain": [
       "{ 1, 1, 1 }"
      ]
     },
     "execution_count": 127,
     "metadata": {},
     "output_type": "execute_result"
    }
   ],
   "source": [
    "solve_deathstar({\n",
    "    {0, 1, 1},\n",
    "    {1, 0, 1},\n",
    "    {1, 1, 0},\n",
    "})"
   ]
  },
  {
   "cell_type": "code",
   "execution_count": 128,
   "metadata": {},
   "outputs": [
    {
     "data": {
      "text/plain": [
       "{ 1, 2, 3, 1, 3 }"
      ]
     },
     "execution_count": 128,
     "metadata": {},
     "output_type": "execute_result"
    }
   ],
   "source": [
    "solve_deathstar({\n",
    "    {0, 0, 1, 1, 1},\n",
    "    {0, 0, 2, 0, 2},\n",
    "    {1, 2, 0, 1, 3},\n",
    "    {1, 0, 1, 0, 1},\n",
    "    {1, 2, 3, 1, 0},\n",
    "})"
   ]
  },
  {
   "cell_type": "code",
   "execution_count": 129,
   "metadata": {},
   "outputs": [
    {
     "data": {
      "text/plain": [
       "{ 1, 3, 1, 0, 3 }"
      ]
     },
     "execution_count": 129,
     "metadata": {},
     "output_type": "execute_result"
    }
   ],
   "source": [
    "solve_deathstar({\n",
    "    {0, 1, 1, 0, 1},\n",
    "    {1, 0, 1, 0, 3},\n",
    "    {1, 1, 0, 0, 1},\n",
    "    {0, 0, 0, 0, 0},\n",
    "    {1, 3, 1, 0, 0},\n",
    "})"
   ]
  },
  {
   "cell_type": "markdown",
   "metadata": {},
   "source": [
    "## [Dice Game](https://open.kattis.com/contests/o2o4qh/problems/dicegame)\n",
    "![Dice Game](dice_game.png)"
   ]
  },
  {
   "cell_type": "code",
   "execution_count": 130,
   "metadata": {},
   "outputs": [],
   "source": [
    "void solve_dice_game(const vector<int>& gunnar, const vector<int>& emma) {\n",
    "    // The two dice are independent. Furthermore, for a given dice, all the numbers: a, a+1, a+2, ..., b - 1, b\n",
    "    // are equiprobables. The expectation is thus: (a + b) / 2.\n",
    "    // So to get the expected value, we do: (a1 + b1) / 2 + (a2 + b2) / 2. We can get rid of the division to\n",
    "    // compare the expected values of Gunnar and Emma.\n",
    "    int score_gunnar = accumulate(begin(gunnar), end(gunnar), 0); // The sum of the four values\n",
    "    int score_emma = accumulate(begin(emma), end(emma), 0);\n",
    "    if (score_gunnar > score_emma) cout << \"Gunnar\";\n",
    "    else if (score_gunnar < score_emma) cout << \"Emma\";\n",
    "    else cout << \"Tie\";\n",
    "    cout << '\\n';\n",
    "}"
   ]
  },
  {
   "cell_type": "code",
   "execution_count": 131,
   "metadata": {},
   "outputs": [
    {
     "name": "stdout",
     "output_type": "stream",
     "text": [
      "Emma\n"
     ]
    }
   ],
   "source": [
    "solve_dice_game({1, 4, 1, 4}, {1, 6, 1, 6})"
   ]
  },
  {
   "cell_type": "code",
   "execution_count": 132,
   "metadata": {},
   "outputs": [
    {
     "name": "stdout",
     "output_type": "stream",
     "text": [
      "Tie\n"
     ]
    }
   ],
   "source": [
    "solve_dice_game({1, 8, 1, 8}, {1, 10, 2, 5})"
   ]
  },
  {
   "cell_type": "code",
   "execution_count": 133,
   "metadata": {},
   "outputs": [
    {
     "name": "stdout",
     "output_type": "stream",
     "text": [
      "Gunnar\n"
     ]
    }
   ],
   "source": [
    "solve_dice_game({2, 5, 2, 7}, {1, 5, 2, 5})"
   ]
  },
  {
   "cell_type": "markdown",
   "metadata": {},
   "source": [
    "## [Witchwood](https://open.kattis.com/problems/witchwood)\n",
    "![Witchwood](witchwood.png)"
   ]
  },
  {
   "cell_type": "code",
   "execution_count": 134,
   "metadata": {},
   "outputs": [],
   "source": [
    "double solve_witchwood(int n, int k, const vector<pair<int, double>>& logs) {\n",
    "    // Let Ei be the best expected time we can get for log i.\n",
    "    // Ei = min_j{Tj + p * (k + E1 + E2 + ... + Ei) + (1 - p) * 0}\n",
    "    //                          ^^^^^^^^^^^^^^^^^^\n",
    "    //                          we have this here because of the linearity of expectation\n",
    "    // So for each j, we have :\n",
    "    //       Ei_j = Tj + p * (k + E1 + E2 + ... + Ei_j)\n",
    "    //       Ei_j - p * Ei_j = T1 + p * (k + E1 + ... + E(i-1)_j)\n",
    "    //       Ei_j = (Tj + p * (k + E1 + ... + E(i-1)_j)) / (1 - p)\n",
    "    // and we just have to take the min off all these quantities for j = 1 to M\n",
    "    //\n",
    "    // Let dp[i] = E1 + E2 + ... + Ei, we have :\n",
    "    //       dp[i] = min_j{(Tj + p * (k + dp[i - 1])) / (1 - p)}\n",
    "    vector<double> dp(n + 1);\n",
    "    for (int i = 1; i <= n; i++) {\n",
    "        double v = 1e30;\n",
    "        for (const auto& [t, p] : logs) {\n",
    "            v = min(v, (t + p * (k + dp[i - 1])) / (1 - p));\n",
    "        }\n",
    "        dp[i] = dp[i - 1] + v;\n",
    "    }\n",
    "    return dp[n];\n",
    "}"
   ]
  },
  {
   "cell_type": "code",
   "execution_count": 135,
   "metadata": {},
   "outputs": [
    {
     "name": "stdout",
     "output_type": "stream",
     "text": [
      "79.00000000000000000000\n"
     ]
    }
   ],
   "source": [
    "{\n",
    "    int n = 3, k = 1;\n",
    "    vector<pair<int, double>> logs {{8, 0.5}, {20, 0.3}, {1, 0.8}};\n",
    "    cout << setprecision(20) << solve_witchwood(n, k, logs) << '\\n';\n",
    "}"
   ]
  },
  {
   "cell_type": "markdown",
   "metadata": {},
   "source": [
    "## [Kayaking Trip](https://open.kattis.com/problems/kayaking)\n",
    "![Kayaking Trip](kayaking_trip.png)"
   ]
  },
  {
   "cell_type": "code",
   "execution_count": 136,
   "metadata": {},
   "outputs": [],
   "source": [
    "int solve_kayaking_trip(int b, int n, int e, int sb, int sn, int se, \n",
    "                        vector<int> speed_factors) {\n",
    "    // We binary search the maximum speed of the slowest kayak\n",
    "    int m = (b + n + e) / 2;\n",
    "    sort(begin(speed_factors), end(speed_factors));\n",
    "    // Is the slowest kayak can go as fast or faster than 'speed'?\n",
    "    // The idea is for each kayak in increasing order of speed factor to put inside it the slowest pair of people \n",
    "    // who can together go as fast or faster than speed.\n",
    "    // This is a greedy approach (good complexity: linear in the size of 'speed_factors') \n",
    "    // and it is correct because we don't waste ressources for each kayak so we cannot do better.\n",
    "    auto possible =\n",
    "        [&](ll speed, int b, int n, int e) {\n",
    "            auto v =\n",
    "                [&](ll s1, ll s2, ll f) -> ll {\n",
    "                    return (s1 + s2) * f;\n",
    "                };\n",
    "            vector<pair<int, int>> order {{0,0},{0,1}};\n",
    "            if (sn + sn < sb + se) {\n",
    "                order.emplace_back(1,1);\n",
    "                order.emplace_back(0,2);\n",
    "            } else {\n",
    "                order.emplace_back(0,2);\n",
    "                order.emplace_back(1,1);\n",
    "            }\n",
    "            order.emplace_back(1,2);\n",
    "            order.emplace_back(2,2);\n",
    "            vector<int> nb{b, n, e};\n",
    "            vector<int> s {sb, sn, se};\n",
    "            for (int f : speed_factors) {\n",
    "                for (auto [i, j] : order) {\n",
    "                    if ((i == j ? nb[i] >= 2 : nb[i] && nb[j]) && v(s[i], s[j], f) >= speed) {\n",
    "                        nb[i]--; nb[j]--;\n",
    "                        goto found;\n",
    "                    }\n",
    "                }\n",
    "                return false;\n",
    "            found:;\n",
    "            }\n",
    "            return true;\n",
    "        };\n",
    "    ll lo = 1;\n",
    "    ll hi = 1e9;\n",
    "    ll res;\n",
    "    while (lo <= hi) {\n",
    "        ll m = lo + (hi - lo) / 2;\n",
    "        if (possible(m, b, n, e)) {\n",
    "            res = m;\n",
    "            lo = m + 1;\n",
    "        } else {\n",
    "            hi = m - 1;\n",
    "        }\n",
    "    }\n",
    "    return res;\n",
    "}"
   ]
  },
  {
   "cell_type": "code",
   "execution_count": 137,
   "metadata": {},
   "outputs": [
    {
     "name": "stdout",
     "output_type": "stream",
     "text": [
      "1600"
     ]
    }
   ],
   "source": [
    "{\n",
    "    int b = 3, n = 1, e = 0;\n",
    "    int sb = 40, sn = 60, se = 90;\n",
    "    vector<int> speed_factors {18, 20};\n",
    "    cout << solve_kayaking_trip(b, n, e, sb, sn, se, speed_factors);\n",
    "}"
   ]
  },
  {
   "cell_type": "code",
   "execution_count": 138,
   "metadata": {},
   "outputs": [
    {
     "name": "stdout",
     "output_type": "stream",
     "text": [
      "505"
     ]
    }
   ],
   "source": [
    "{\n",
    "    int b = 7, n = 0, e = 7;\n",
    "    int sb = 5, sn = 10, se = 500;\n",
    "    vector<int> speed_factors {1, 1, 1, 1, 1, 1, 1};\n",
    "    cout << solve_kayaking_trip(b, n, e, sb, sn, se, speed_factors);\n",
    "}"
   ]
  },
  {
   "cell_type": "markdown",
   "metadata": {},
   "source": [
    "## [Flowery Trails]()\n",
    "![Flowery Trails](flowery_trails.png)"
   ]
  },
  {
   "cell_type": "code",
   "execution_count": 139,
   "metadata": {},
   "outputs": [],
   "source": [
    "template<typename T>\n",
    "using min_pq = priority_queue<T, vector<T>, greater<T>>;\n",
    "\n",
    "int solve_flowery_trails(int P, const vector<tuple<int, int, int>>& trails) {    \n",
    "    constexpr int INF = 1e9;\n",
    "    struct edge {\n",
    "        int next;\n",
    "        int weight;\n",
    "        edge(int next, int weight) : next(next), weight(weight) {}\n",
    "    };\n",
    "    vector<vector<edge>> g(P);\n",
    "    for (auto [p1, p2, l] : trails) {\n",
    "        g[p1].emplace_back(p2, l);\n",
    "        if (p1 != p2) {\n",
    "            g[p2].emplace_back(p1, l);\n",
    "        }\n",
    "    }\n",
    "    // We use Dijkstra to remember the best paths\n",
    "    vector<vector<edge>> preds(P);\n",
    "    vector<int> distances(P, INF);\n",
    "    min_pq<pair<int, int>> pq;\n",
    "    pq.emplace(0, 0);\n",
    "    while (!pq.empty()) {\n",
    "        auto [d, p] = pq.top(); pq.pop();\n",
    "        if (d > distances[p]) continue;\n",
    "        distances[p] = d;\n",
    "        for (auto [nxt, w] : g[p]) {\n",
    "            int dd = d + w;\n",
    "            if (distances[nxt] == dd) {\n",
    "                preds[nxt].emplace_back(p, w);\n",
    "            } else if (distances[nxt] > dd) {\n",
    "                preds[nxt].clear();\n",
    "                preds[nxt].emplace_back(p, w);\n",
    "                distances[nxt] = dd;\n",
    "                pq.emplace(dd, nxt);\n",
    "            }\n",
    "        }\n",
    "    }\n",
    "    // Then we go through all the paths to sum their lengths with a dfs\n",
    "    vector<bool> visited(P);\n",
    "    function<int(int)> dfs =\n",
    "            [&](int p) {\n",
    "                if (visited[p]) return 0;\n",
    "                visited[p] = true;\n",
    "                int res = 0;\n",
    "                for (auto [pred, w] : preds[p]) {\n",
    "                    res += w + dfs(pred);\n",
    "                }\n",
    "                return res;\n",
    "            };\n",
    "    return 2 * dfs(P - 1);\n",
    "}"
   ]
  },
  {
   "cell_type": "code",
   "execution_count": 140,
   "metadata": {},
   "outputs": [
    {
     "name": "stdout",
     "output_type": "stream",
     "text": [
      "3860"
     ]
    }
   ],
   "source": [
    "{\n",
    "    int P = 10;\n",
    "    vector<tuple<int, int, int>> trails \n",
    "    {\n",
    "        {0, 1, 580},\n",
    "        {1, 4, 90},\n",
    "        {1, 4, 90},\n",
    "        {4, 9, 250},\n",
    "        {4, 2, 510},\n",
    "        {2, 7, 600},\n",
    "        {7, 3, 200},\n",
    "        {3, 3, 380},\n",
    "        {3, 0, 150},\n",
    "        {0, 3, 100},\n",
    "        {7, 8, 500},\n",
    "        {7, 9, 620},\n",
    "        {9, 6, 510},\n",
    "        {6, 5, 145},\n",
    "        {5, 9, 160},\n",
    "    };\n",
    "    cout << solve_flowery_trails(P, trails);\n",
    "}"
   ]
  },
  {
   "cell_type": "code",
   "execution_count": 141,
   "metadata": {},
   "outputs": [
    {
     "name": "stdout",
     "output_type": "stream",
     "text": [
      "18"
     ]
    }
   ],
   "source": [
    "{\n",
    "    int P = 4;\n",
    "    vector<tuple<int, int, int>> trails \n",
    "    {\n",
    "        {0, 1, 1},\n",
    "        {0, 2, 2},\n",
    "        {0, 3, 10},\n",
    "        {0, 3, 3},\n",
    "        {1, 3, 2},\n",
    "        {2, 3, 1},\n",
    "        {1, 1, 1},\n",
    "    };\n",
    "    cout << solve_flowery_trails(P, trails);\n",
    "}"
   ]
  }
 ],
 "metadata": {
  "kernelspec": {
   "display_name": "C++17",
   "language": "C++17",
   "name": "xcpp17"
  },
  "language_info": {
   "codemirror_mode": "text/x-c++src",
   "file_extension": ".cpp",
   "mimetype": "text/x-c++src",
   "name": "c++",
   "version": "17"
  }
 },
 "nbformat": 4,
 "nbformat_minor": 4
}
